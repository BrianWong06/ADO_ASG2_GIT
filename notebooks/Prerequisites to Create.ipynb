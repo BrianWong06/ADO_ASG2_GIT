{
 "cells": [
  {
   "cell_type": "markdown",
   "id": "55e36ee2-87e6-4993-839c-3810bea358de",
   "metadata": {},
   "source": [
    "<table class=\"table table-bordered\">\n",
    "    <tr>\n",
    "        <th style=\"text-align:center; vertical-align: middle; width:50%\"><img src='https://www.np.edu.sg/images/default-source/default-album/img-logo.png'\"></th>\n",
    "        <th style=\"text-align:center;\"><h1>Agile DataOps</h1><h2>Assignment 2(Group) - Creation of Warehouse/Database/Schema</h2><h3>AY2024/25 Semester</h3></th>\n",
    "    </tr>\n",
    "</table>"
   ]
  },
  {
   "cell_type": "code",
   "execution_count": 2,
   "id": "3c84def0-7711-4483-b5bb-ea26c40a7382",
   "metadata": {},
   "outputs": [],
   "source": [
    "## creation of warehouse"
   ]
  },
  {
   "cell_type": "code",
   "execution_count": null,
   "id": "e72beaf6-6ad2-4f93-88b7-27ae6157ffe6",
   "metadata": {},
   "outputs": [],
   "source": [
    "CREATE WAREHOUSE ADO_ASG2_GROUP_CAT_WH\n",
    "WITH \n",
    "    WAREHOUSE_SIZE = 'XSMALL'  \n",
    "    AUTO_SUSPEND = 60\n",
    "    AUTO_RESUME = TRUE;\n"
   ]
  },
  {
   "cell_type": "code",
   "execution_count": 4,
   "id": "8e31e617-ef23-4684-a3e9-c8a8443f508a",
   "metadata": {},
   "outputs": [],
   "source": [
    "## creation of database and schema"
   ]
  },
  {
   "cell_type": "code",
   "execution_count": null,
   "id": "3c79d2c7-bf6f-45ab-b640-51f2194faee8",
   "metadata": {},
   "outputs": [],
   "source": [
    "CREATE DATABASE ADO_ASG2_GROUP_CAT_DB;\n",
    "CREATE SCHEMA ADO_ASG2_GROUP_CAT_SCM;"
   ]
  },
  {
   "cell_type": "code",
   "execution_count": 6,
   "id": "028e4629-bc83-4e23-848e-25c0bfea2674",
   "metadata": {},
   "outputs": [],
   "source": [
    "## sql command to use the newly created database and schema"
   ]
  },
  {
   "cell_type": "code",
   "execution_count": null,
   "id": "7a5911a1-00de-4254-bfab-6cffe6ae3cbd",
   "metadata": {},
   "outputs": [],
   "source": [
    "USE WAREHOUSE ADO_ASG2_GROUP_CAT_WH;\n",
    "USE DATABASE ADO_ASG2_GROUP_CAT_DB;\n",
    "USE SCHEMA ADO_ASG2_GROUP_CAT_SCM;"
   ]
  }
 ],
 "metadata": {
  "kernelspec": {
   "display_name": "Python 3 (ipykernel)",
   "language": "python",
   "name": "python3"
  },
  "language_info": {
   "codemirror_mode": {
    "name": "ipython",
    "version": 3
   },
   "file_extension": ".py",
   "mimetype": "text/x-python",
   "name": "python",
   "nbconvert_exporter": "python",
   "pygments_lexer": "ipython3",
   "version": "3.12.4"
  }
 },
 "nbformat": 4,
 "nbformat_minor": 5
}
