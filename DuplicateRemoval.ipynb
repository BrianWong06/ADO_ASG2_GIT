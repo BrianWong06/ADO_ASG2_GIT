{
 "cells": [
  {
   "cell_type": "markdown",
   "id": "a705555b-0018-46af-8c63-7a6679758c76",
   "metadata": {},
   "source": [
    "<table class=\"table table-bordered\">\n",
    "    <tr>\n",
    "        <th style=\"text-align:center; vertical-align: middle; width:50%\"><img src='https://www.np.edu.sg/images/default-source/default-album/img-logo.png'\"></th>\n",
    "        <th style=\"text-align:center;\"><h1>Agile DataOps </h1><h2>Assignment 2(Group) - Removing Duplicates </h2><h3>AY2024/25 Semester</h3></th>\n",
    "    </tr>\n",
    "</table>"
   ]
  },
  {
   "cell_type": "code",
   "execution_count": 3,
   "id": "aa8685b0-d0ba-4559-8790-e30f3782a26d",
   "metadata": {},
   "outputs": [],
   "source": [
    "## appending table name : circuits"
   ]
  },
  {
   "cell_type": "code",
   "execution_count": null,
   "id": "b6552dfd-e0f7-44a7-97c7-a2c51d56120e",
   "metadata": {},
   "outputs": [],
   "source": [
    "CREATE OR REPLACE TABLE ADO_ASG2_GROUP_CAT_DB.ADO_ASG2_GROUP_CAT_SCM.CIRCUITS AS\n",
    "SELECT *\n",
    "FROM (\n",
    "    SELECT *,\n",
    "           ROW_NUMBER() OVER (PARTITION BY CIRCUITID ORDER BY CIRCUITID) AS RN\n",
    "    FROM ADO_ASG2_GROUP_CAT_DB.ADO_ASG2_GROUP_CAT_SCM.CIRCUITS\n",
    ")\n",
    "WHERE RN = 1;"
   ]
  },
  {
   "cell_type": "code",
   "execution_count": 5,
   "id": "d1c5fd91-d323-4c3e-9c2b-26f424a0ee71",
   "metadata": {},
   "outputs": [],
   "source": [
    "## appending table name : constructor"
   ]
  },
  {
   "cell_type": "code",
   "execution_count": null,
   "id": "9984d57e-1d6d-4d1a-b9d0-8eab161b7174",
   "metadata": {},
   "outputs": [],
   "source": [
    "CREATE OR REPLACE TABLE ADO_ASG2_GROUP_CAT_DB.ADO_ASG2_GROUP_CAT_SCM.CONSTRUCTOR AS\n",
    "SELECT *\n",
    "FROM (\n",
    "    SELECT *,\n",
    "           ROW_NUMBER() OVER (PARTITION BY CONSTRUCTORID ORDER BY CONSTRUCTORID) AS RN\n",
    "    FROM ADO_ASG2_GROUP_CAT_DB.ADO_ASG2_GROUP_CAT_SCM.CONSTRUCTOR\n",
    ")\n",
    "WHERE RN = 1;\n"
   ]
  },
  {
   "cell_type": "code",
   "execution_count": 7,
   "id": "d7526fc2-3e7f-4f58-ba59-d2bdbfa2a028",
   "metadata": {},
   "outputs": [],
   "source": [
    "## appending table name : drivers"
   ]
  },
  {
   "cell_type": "code",
   "execution_count": null,
   "id": "058ea4df-6234-4f64-9df4-2dfd72ee0cd0",
   "metadata": {},
   "outputs": [],
   "source": [
    "CREATE OR REPLACE TABLE ADO_ASG2_GROUP_CAT_DB.ADO_ASG2_GROUP_CAT_SCM.DRIVERS AS\n",
    "SELECT *\n",
    "FROM (\n",
    "    SELECT *,\n",
    "           ROW_NUMBER() OVER (PARTITION BY DRIVERID ORDER BY DRIVERID) AS RN\n",
    "    FROM ADO_ASG2_GROUP_CAT_DB.ADO_ASG2_GROUP_CAT_SCM.DRIVERS\n",
    ")\n",
    "WHERE RN = 1;"
   ]
  },
  {
   "cell_type": "code",
   "execution_count": 9,
   "id": "4600a085-cebd-41ce-8dfe-d04f744c33b6",
   "metadata": {},
   "outputs": [],
   "source": [
    "## appending table name : pit_stops"
   ]
  },
  {
   "cell_type": "code",
   "execution_count": null,
   "id": "af93c5f7-79ca-4697-b5a8-c25612a58a99",
   "metadata": {},
   "outputs": [],
   "source": [
    "CREATE OR REPLACE TABLE ADO_ASG2_GROUP_CAT_DB.ADO_ASG2_GROUP_CAT_SCM.PITSTOPS AS\n",
    "SELECT *\n",
    "FROM (\n",
    "    SELECT *,\n",
    "           ROW_NUMBER() OVER (PARTITION BY RACEID, DRIVERID, STOP ORDER BY STOP) AS RN\n",
    "    FROM ADO_ASG2_GROUP_CAT_DB.ADO_ASG2_GROUP_CAT_SCM.PITSTOPS\n",
    ")\n",
    "WHERE RN = 1;"
   ]
  },
  {
   "cell_type": "code",
   "execution_count": 11,
   "id": "e252fe28-b940-4a0e-8058-e0d1c8361586",
   "metadata": {},
   "outputs": [],
   "source": [
    "## appending table name : qualifying"
   ]
  },
  {
   "cell_type": "code",
   "execution_count": null,
   "id": "eb526582-d97e-458e-8679-2bc03318a324",
   "metadata": {},
   "outputs": [],
   "source": [
    "CREATE OR REPLACE TABLE ADO_ASG2_GROUP_CAT_DB.ADO_ASG2_GROUP_CAT_SCM.QUALIFYING AS\n",
    "SELECT *\n",
    "FROM (\n",
    "    SELECT *,\n",
    "           ROW_NUMBER() OVER (PARTITION BY QUALIFYID, RACEID, DRIVERID ORDER BY QUALIFYID) AS RN\n",
    "    FROM ADO_ASG2_GROUP_CAT_DB.ADO_ASG2_GROUP_CAT_SCM.QUALIFYING\n",
    ")\n",
    "WHERE RN = 1;"
   ]
  },
  {
   "cell_type": "code",
   "execution_count": 13,
   "id": "5e8354da-0322-4451-a51f-286d69fad3de",
   "metadata": {},
   "outputs": [],
   "source": [
    "## appending table name : driver_standings"
   ]
  },
  {
   "cell_type": "code",
   "execution_count": null,
   "id": "1330faca-2c1a-4d82-a791-146b1c1c0955",
   "metadata": {},
   "outputs": [],
   "source": [
    "CREATE OR REPLACE TABLE ADO_ASG2_GROUP_CAT_DB.ADO_ASG2_GROUP_CAT_SCM.DRIVER_STANDINGS AS\n",
    "SELECT *\n",
    "FROM (\n",
    "    SELECT *,\n",
    "           ROW_NUMBER() OVER (PARTITION BY DRIVERSTANDINGSID ORDER BY DRIVERSTANDINGSID) AS RN\n",
    "    FROM ADO_ASG2_GROUP_CAT_DB.ADO_ASG2_GROUP_CAT_SCM.DRIVER_STANDINGS\n",
    ")\n",
    "WHERE RN = 1;"
   ]
  },
  {
   "cell_type": "code",
   "execution_count": 15,
   "id": "f7852528-d3e1-44da-a42d-5b204ab44a5e",
   "metadata": {},
   "outputs": [],
   "source": [
    "## appending table name : results"
   ]
  },
  {
   "cell_type": "code",
   "execution_count": null,
   "id": "6c3eb6a9-21ea-4f44-86d2-56c7165ef61a",
   "metadata": {},
   "outputs": [],
   "source": [
    "CREATE OR REPLACE TABLE ADO_ASG2_GROUP_CAT_DB.ADO_ASG2_GROUP_CAT_SCM.RESULTS AS\n",
    "SELECT *\n",
    "FROM (\n",
    "    SELECT *,\n",
    "           ROW_NUMBER() OVER (PARTITION BY RESULTID ORDER BY RESULTID) AS RN\n",
    "    FROM ADO_ASG2_GROUP_CAT_DB.ADO_ASG2_GROUP_CAT_SCM.RESULTS\n",
    ")\n",
    "WHERE RN = 1;\n"
   ]
  },
  {
   "cell_type": "code",
   "execution_count": 17,
   "id": "e6cb6bd2-2a8a-44d9-a85f-0bc56e244de1",
   "metadata": {},
   "outputs": [],
   "source": [
    "## appending table name : seasons"
   ]
  },
  {
   "cell_type": "code",
   "execution_count": null,
   "id": "fda44cca-240d-48e2-9988-7cb2fb60d48a",
   "metadata": {},
   "outputs": [],
   "source": [
    "CREATE OR REPLACE TABLE ADO_ASG2_GROUP_CAT_DB.ADO_ASG2_GROUP_CAT_SCM.SEASONS AS\n",
    "SELECT *\n",
    "FROM (\n",
    "    SELECT *,\n",
    "           ROW_NUMBER() OVER (PARTITION BY YEAR ORDER BY YEAR) AS RN\n",
    "    FROM ADO_ASG2_GROUP_CAT_DB.ADO_ASG2_GROUP_CAT_SCM.SEASONS\n",
    ")\n",
    "WHERE RN = 1;"
   ]
  },
  {
   "cell_type": "code",
   "execution_count": 19,
   "id": "b6508bbd-e405-43d1-bdf1-30388d6b26e8",
   "metadata": {},
   "outputs": [],
   "source": [
    "## appending table name : constructor_results"
   ]
  },
  {
   "cell_type": "code",
   "execution_count": null,
   "id": "4f7ace5e-ee70-478b-8349-339e707f911d",
   "metadata": {},
   "outputs": [],
   "source": [
    "CREATE OR REPLACE TABLE ADO_ASG2_GROUP_CAT_DB.ADO_ASG2_GROUP_CAT_SCM.CONSTRUCTOR_RESULTS AS\n",
    "SELECT *\n",
    "FROM (\n",
    "    SELECT *,\n",
    "           ROW_NUMBER() OVER (PARTITION BY CONSTRUCTORRESULTSID ORDER BY CONSTRUCTORRESULTSID) AS RN\n",
    "    FROM ADO_ASG2_GROUP_CAT_DB.ADO_ASG2_GROUP_CAT_SCM.CONSTRUCTOR_RESULTS\n",
    ")\n",
    "WHERE RN = 1;"
   ]
  },
  {
   "cell_type": "code",
   "execution_count": 21,
   "id": "0d920b94-e637-4f11-8deb-07cb2895f8b9",
   "metadata": {},
   "outputs": [],
   "source": [
    "## appending table name : constructor_standings"
   ]
  },
  {
   "cell_type": "code",
   "execution_count": null,
   "id": "98fec64c-d93e-4461-bb60-81f2f786039d",
   "metadata": {},
   "outputs": [],
   "source": [
    "CREATE OR REPLACE TABLE ADO_ASG2_GROUP_CAT_DB.ADO_ASG2_GROUP_CAT_SCM.CONSTRUCTOR_STANDINGS AS\n",
    "SELECT *\n",
    "FROM (\n",
    "    SELECT *,\n",
    "           ROW_NUMBER() OVER (PARTITION BY CONSTRUCTORSTANDINGSID ORDER BY CONSTRUCTORSTANDINGSID) AS RN\n",
    "    FROM ADO_ASG2_GROUP_CAT_DB.ADO_ASG2_GROUP_CAT_SCM.CONSTRUCTOR_STANDINGS\n",
    ")\n",
    "WHERE RN = 1;"
   ]
  },
  {
   "cell_type": "code",
   "execution_count": 23,
   "id": "a9100739-9511-4026-afeb-f24e665b17aa",
   "metadata": {},
   "outputs": [],
   "source": [
    "## appending table name : races"
   ]
  },
  {
   "cell_type": "code",
   "execution_count": null,
   "id": "cd9a55d7-3af1-481f-bb21-247f9e5ad6af",
   "metadata": {},
   "outputs": [],
   "source": [
    "CREATE OR REPLACE TABLE ADO_ASG2_GROUP_CAT_DB.ADO_ASG2_GROUP_CAT_SCM.RACES AS\n",
    "SELECT *\n",
    "FROM (\n",
    "    SELECT *,\n",
    "           ROW_NUMBER() OVER (PARTITION BY RACEID ORDER BY RACEID) AS RN\n",
    "    FROM ADO_ASG2_GROUP_CAT_DB.ADO_ASG2_GROUP_CAT_SCM.RACES\n",
    ")\n",
    "WHERE RN = 1;"
   ]
  },
  {
   "cell_type": "code",
   "execution_count": 25,
   "id": "e471573d-8aa0-4642-a7f3-a6439566e4ba",
   "metadata": {},
   "outputs": [],
   "source": [
    "## appending table name : lap_times"
   ]
  },
  {
   "cell_type": "code",
   "execution_count": null,
   "id": "593ee7a8-89a1-4428-be13-b4d8c0c2e7a1",
   "metadata": {},
   "outputs": [],
   "source": [
    "CREATE OR REPLACE TABLE ADO_ASG2_GROUP_CAT_DB.ADO_ASG2_GROUP_CAT_SCM.LAPTIMES AS\n",
    "SELECT *\n",
    "FROM (\n",
    "    SELECT *,\n",
    "           ROW_NUMBER() OVER (PARTITION BY RACEID, DRIVERID, LAP ORDER BY LAP) AS RN\n",
    "    FROM ADO_ASG2_GROUP_CAT_DB.ADO_ASG2_GROUP_CAT_SCM.LAPTIMES\n",
    ")\n",
    "WHERE RN = 1;"
   ]
  },
  {
   "cell_type": "code",
   "execution_count": 27,
   "id": "bd660e9e-5bd7-404b-b609-4e809a617ca5",
   "metadata": {},
   "outputs": [],
   "source": [
    "## appending and creating a table named sprint_results_cleaned"
   ]
  },
  {
   "cell_type": "code",
   "execution_count": null,
   "id": "3a16383c-6f6b-407f-9fc2-0e93e779dc6a",
   "metadata": {},
   "outputs": [],
   "source": [
    "CREATE OR REPLACE TABLE ADO_ASG2_GROUP_CAT_DB.ADO_ASG2_GROUP_CAT_SCM.SPRINT_RESULTS_CLEANED AS\n",
    "SELECT\n",
    "    RESULTID,\n",
    "    RACEID,\n",
    "    DRIVERID,\n",
    "    CONSTRUCTORID,\n",
    "    NUMBER,\n",
    "    POSITIONTEXT,\n",
    "    POSITIONORDER,\n",
    "    POINTS,\n",
    "    LAPS,\n",
    "    TIME,\n",
    "    MILLISECONDS,\n",
    "    FASTESTLAP,\n",
    "    FASTESTLAPTIME,\n",
    "    STATUSID\n",
    "FROM ADO_ASG2_GROUP_CAT_DB.ADO_ASG2_GROUP_CAT_SCM.SPRINT_RESULT AS T1\n",
    "WHERE RESULTID IN (\n",
    "    SELECT MIN(RESULTID)\n",
    "    FROM ADO_ASG2_GROUP_CAT_DB.ADO_ASG2_GROUP_CAT_SCM.SPRINT_RESULT\n",
    "    GROUP BY RESULTID\n",
    ");"
   ]
  },
  {
   "cell_type": "code",
   "execution_count": 31,
   "id": "22a76e31-45ad-4c8f-b21b-5e722dc09810",
   "metadata": {},
   "outputs": [],
   "source": [
    "## appending table name : status"
   ]
  },
  {
   "cell_type": "code",
   "execution_count": null,
   "id": "22e0ce57-323a-4f56-a031-6a22c9f77905",
   "metadata": {},
   "outputs": [],
   "source": [
    "CREATE OR REPLACE TABLE ADO_ASG2_GROUP_CAT_DB.ADO_ASG2_GROUP_CAT_SCM.STATUS AS\n",
    "SELECT *\n",
    "FROM (\n",
    "    SELECT *,\n",
    "           ROW_NUMBER() OVER (PARTITION BY STATUSID ORDER BY STATUSID) AS RN\n",
    "    FROM ADO_ASG2_GROUP_CAT_DB.ADO_ASG2_GROUP_CAT_SCM.STATUS\n",
    ")\n",
    "WHERE RN = 1;\n"
   ]
  }
 ],
 "metadata": {
  "kernelspec": {
   "display_name": "Python 3 (ipykernel)",
   "language": "python",
   "name": "python3"
  },
  "language_info": {
   "codemirror_mode": {
    "name": "ipython",
    "version": 3
   },
   "file_extension": ".py",
   "mimetype": "text/x-python",
   "name": "python",
   "nbconvert_exporter": "python",
   "pygments_lexer": "ipython3",
   "version": "3.12.4"
  }
 },
 "nbformat": 4,
 "nbformat_minor": 5
}
