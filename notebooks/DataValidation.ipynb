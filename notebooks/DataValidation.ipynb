{
 "cells": [
  {
   "cell_type": "markdown",
   "id": "1aba7677-34cc-43e1-9b50-c6261d86cf3e",
   "metadata": {},
   "source": [
    "<table class=\"table table-bordered\">\n",
    "    <tr>\n",
    "        <th style=\"text-align:center; vertical-align: middle; width:50%\"><img src='https://www.np.edu.sg/images/default-source/default-album/img-logo.png'\"></th>\n",
    "        <th style=\"text-align:center;\"><h1>Agile DataOps</h1><h2>Assignment 2(Group) - Data Validation</h2><h3>AY2024/25 Semester</h3></th>\n",
    "    </tr>\n",
    "</table>"
   ]
  },
  {
   "cell_type": "code",
   "execution_count": 2,
   "id": "574a76a4-7992-4be7-9367-114b4dfd5844",
   "metadata": {},
   "outputs": [],
   "source": [
    "## running data.isnull().sum(), but in sql terms, other than that, more of verifying"
   ]
  },
  {
   "cell_type": "code",
   "execution_count": null,
   "id": "bed94fe1-cee4-4cc5-84e6-9c1f4f1936c7",
   "metadata": {},
   "outputs": [],
   "source": [
    "## CIRCUITS\n",
    "SELECT 'CIRCUITS' AS TABLE_NAME, 'LOCATION' AS COLUMN_NAME, COUNT(*) AS NULL_COUNT\n",
    "FROM ADO_ASG2_GROUP_CAT_DB.ADO_ASG2_GROUP_CAT_SCM.CIRCUITS\n",
    "WHERE LOCATION IS NULL;"
   ]
  },
  {
   "cell_type": "code",
   "execution_count": null,
   "id": "85265853-e569-4faa-9455-74ac0213271d",
   "metadata": {},
   "outputs": [],
   "source": [
    "## CONSTRUCTOR\n",
    "SELECT 'CONSTRUCTOR' AS TABLE_NAME, 'NAME' AS COLUMN_NAME, COUNT(*) AS NULL_COUNT\n",
    "FROM ADO_ASG2_GROUP_CAT_DB.ADO_ASG2_GROUP_CAT_SCM.CONSTRUCTOR\n",
    "WHERE NAME IS NULL;"
   ]
  },
  {
   "cell_type": "code",
   "execution_count": null,
   "id": "f5fef809-93b3-44ab-8964-279ff0dfdde3",
   "metadata": {},
   "outputs": [],
   "source": [
    "## CONSTRUCTOR_RESULTS\n",
    "SELECT 'CONSTRUCTOR_RESULTS' AS TABLE_NAME, 'POINTS' AS COLUMN_NAME, COUNT(*) AS NULL_COUNT\n",
    "FROM ADO_ASG2_GROUP_CAT_DB.ADO_ASG2_GROUP_CAT_SCM.CONSTRUCTOR_RESULTS\n",
    "WHERE POINTS IS NULL;"
   ]
  },
  {
   "cell_type": "code",
   "execution_count": null,
   "id": "760ca79e-53e1-4bbc-8aa3-194959636aba",
   "metadata": {},
   "outputs": [],
   "source": [
    "## CONSTRUCTOR_STANDINGS\n",
    "SELECT 'CONSTRUCTOR_STANDINGS' AS TABLE_NAME, 'POINTS' AS COLUMN_NAME, COUNT(*) AS NULL_COUNT\n",
    "FROM ADO_ASG2_GROUP_CAT_DB.ADO_ASG2_GROUP_CAT_SCM.CONSTRUCTOR_STANDINGS\n",
    "WHERE POINTS IS NULL;\n"
   ]
  },
  {
   "cell_type": "code",
   "execution_count": null,
   "id": "aab56090-5893-4fe5-bb2f-e84656494601",
   "metadata": {},
   "outputs": [],
   "source": [
    "## DRIVERS\n",
    "SELECT 'DRIVERS' AS TABLE_NAME, 'DOB' AS COLUMN_NAME, COUNT(*) AS NULL_COUNT\n",
    "FROM ADO_ASG2_GROUP_CAT_DB.ADO_ASG2_GROUP_CAT_SCM.DRIVERS\n",
    "WHERE DOB IS NULL;\n"
   ]
  },
  {
   "cell_type": "code",
   "execution_count": null,
   "id": "1794ae4b-4f26-4812-8ed4-d4716db4b86d",
   "metadata": {},
   "outputs": [],
   "source": [
    "## DRIVER_STANDINGS\n",
    "SELECT 'DRIVER_STANDINGS' AS TABLE_NAME, 'ACCUMULATEDPOINTS' AS COLUMN_NAME, COUNT(*) AS NULL_COUNT\n",
    "FROM ADO_ASG2_GROUP_CAT_DB.ADO_ASG2_GROUP_CAT_SCM.DRIVER_STANDINGS\n",
    "WHERE ACCUMULATEDPOINTS IS NULL;"
   ]
  },
  {
   "cell_type": "code",
   "execution_count": null,
   "id": "216cfde8-9a59-4073-93e2-83adee453d63",
   "metadata": {},
   "outputs": [],
   "source": [
    "## LAPTIMES\n",
    "SELECT 'LAPTIMES' AS TABLE_NAME, 'TIME' AS COLUMN_NAME, COUNT(*) AS NULL_COUNT\n",
    "FROM ADO_ASG2_GROUP_CAT_DB.ADO_ASG2_GROUP_CAT_SCM.LAPTIMES\n",
    "WHERE TIME IS NULL;"
   ]
  },
  {
   "cell_type": "code",
   "execution_count": null,
   "id": "3e79fed9-4212-4732-92c1-bbc7197a12b0",
   "metadata": {},
   "outputs": [],
   "source": [
    "## PITSTOPS\n",
    "SELECT 'PITSTOPS' AS TABLE_NAME, 'DURATION' AS COLUMN_NAME, COUNT(*) AS NULL_COUNT\n",
    "FROM ADO_ASG2_GROUP_CAT_DB.ADO_ASG2_GROUP_CAT_SCM.PITSTOPS\n",
    "WHERE DURATION IS NULL;"
   ]
  },
  {
   "cell_type": "code",
   "execution_count": null,
   "id": "9b8999f6-3aaa-4390-aed9-f49f87772d84",
   "metadata": {},
   "outputs": [],
   "source": [
    "## QUALIFYING\n",
    "SELECT 'QUALIFYING' AS TABLE_NAME, 'Q1' AS COLUMN_NAME, COUNT(*) AS NULL_COUNT\n",
    "FROM ADO_ASG2_GROUP_CAT_DB.ADO_ASG2_GROUP_CAT_SCM.QUALIFYING\n",
    "WHERE Q1 IS NULL;"
   ]
  },
  {
   "cell_type": "code",
   "execution_count": null,
   "id": "70f42039-c154-475d-bfe7-a7ae22e0975a",
   "metadata": {},
   "outputs": [],
   "source": [
    "## RACES\n",
    "SELECT 'RACES' AS TABLE_NAME, 'YEAR' AS COLUMN_NAME, COUNT(*) AS NULL_COUNT\n",
    "FROM ADO_ASG2_GROUP_CAT_DB.ADO_ASG2_GROUP_CAT_SCM.RACES\n",
    "WHERE YEAR IS NULL;\n"
   ]
  },
  {
   "cell_type": "code",
   "execution_count": null,
   "id": "d5dd1f58-f95c-42c7-ac95-35584f9063bf",
   "metadata": {},
   "outputs": [],
   "source": [
    "## RESULTS (here)\n",
    "SELECT 'RESULTS' AS TABLE_NAME, 'FASTESTLAPTIME_SECONDS' AS COLUMN_NAME, COUNT(*) AS NULL_COUNT\n",
    "FROM ADO_ASG2_GROUP_CAT_DB.ADO_ASG2_GROUP_CAT_SCM.RESULTS\n",
    "WHERE FASTESTLAPTIME_SECONDS IS NULL;\n"
   ]
  },
  {
   "cell_type": "code",
   "execution_count": null,
   "id": "11e36b61-f953-4da5-8750-b18380d2fb1b",
   "metadata": {},
   "outputs": [],
   "source": [
    "## SEASONS\n",
    "SELECT 'SEASONS' AS TABLE_NAME, 'YEAR' AS COLUMN_NAME, COUNT(*) AS NULL_COUNT\n",
    "FROM ADO_ASG2_GROUP_CAT_DB.ADO_ASG2_GROUP_CAT_SCM.SEASONS\n",
    "WHERE YEAR IS NULL;"
   ]
  },
  {
   "cell_type": "code",
   "execution_count": null,
   "id": "b1fad7bb-07e5-4cd2-82bd-d29b7bc06dec",
   "metadata": {},
   "outputs": [],
   "source": [
    "## SPRINT_RESULTS\n",
    "SELECT 'SPRINT_RESULTS' AS TABLE_NAME, 'FASTESTLAPTIME' AS COLUMN_NAME, COUNT(*) AS NULL_COUNT\n",
    "FROM ADO_ASG2_GROUP_CAT_DB.ADO_ASG2_GROUP_CAT_SCM.SPRINT_RESULTS\n",
    "WHERE FASTESTLAPTIME IS NULL;"
   ]
  },
  {
   "cell_type": "code",
   "execution_count": null,
   "id": "13b38c8d-b364-4b80-9ef8-b4a5fe0e9591",
   "metadata": {},
   "outputs": [],
   "source": [
    "## STATUS\n",
    "SELECT 'STATUS' AS TABLE_NAME, 'STATUS' AS COLUMN_NAME, COUNT(*) AS NULL_COUNT\n",
    "FROM ADO_ASG2_GROUP_CAT_DB.ADO_ASG2_GROUP_CAT_SCM.STATUS\n",
    "WHERE STATUS IS NULL;"
   ]
  },
  {
   "cell_type": "code",
   "execution_count": 4,
   "id": "bdb119d2-bf89-4376-ae4e-9a3555a7ce7c",
   "metadata": {},
   "outputs": [],
   "source": [
    "#### check for duplicates after data cleansing"
   ]
  },
  {
   "cell_type": "code",
   "execution_count": null,
   "id": "297c51f9-9d8e-4787-9370-11a37a98c8c9",
   "metadata": {},
   "outputs": [],
   "source": [
    "SELECT CIRCUITID, COUNT(*) AS DUPLICATE_COUNT\n",
    "FROM ADO_ASG2_GROUP_CAT_DB.ADO_ASG2_GROUP_CAT_SCM.CIRCUITS\n",
    "GROUP BY CIRCUITID\n",
    "HAVING COUNT(*) > 1;"
   ]
  },
  {
   "cell_type": "code",
   "execution_count": null,
   "id": "e9aaf55e-72de-4b33-a81f-09a335ff84de",
   "metadata": {},
   "outputs": [],
   "source": [
    "## CONSTRUCTOR\n",
    "SELECT CONSTRUCTORID, COUNT(*) AS DUPLICATE_COUNT\n",
    "FROM ADO_ASG2_GROUP_CAT_DB.ADO_ASG2_GROUP_CAT_SCM.CONSTRUCTOR\n",
    "GROUP BY CONSTRUCTORID\n",
    "HAVING COUNT(*) > 1;"
   ]
  },
  {
   "cell_type": "code",
   "execution_count": null,
   "id": "d1a051a6-321c-4262-be92-232ff90272a5",
   "metadata": {},
   "outputs": [],
   "source": [
    "## CONSTRUCTOR_RESULTS\n",
    "SELECT CONSTRUCTORRESULTSID, COUNT(*) AS DUPLICATE_COUNT\n",
    "FROM ADO_ASG2_GROUP_CAT_DB.ADO_ASG2_GROUP_CAT_SCM.CONSTRUCTOR_RESULTS\n",
    "GROUP BY CONSTRUCTORRESULTSID\n",
    "HAVING COUNT(*) > 1;"
   ]
  },
  {
   "cell_type": "code",
   "execution_count": null,
   "id": "0df70cab-aaea-4656-9c0e-e25fa59f6d98",
   "metadata": {},
   "outputs": [],
   "source": [
    "## CONSTRUCTOR_STANDINGS\n",
    "SELECT CONSTRUCTORSTANDINGSID, COUNT(*) AS DUPLICATE_COUNT\n",
    "FROM ADO_ASG2_GROUP_CAT_DB.ADO_ASG2_GROUP_CAT_SCM.CONSTRUCTOR_STANDINGS\n",
    "GROUP BY CONSTRUCTORSTANDINGSID\n",
    "HAVING COUNT(*) > 1;"
   ]
  },
  {
   "cell_type": "code",
   "execution_count": null,
   "id": "233cdb49-16f2-4717-869a-62a3149c5759",
   "metadata": {},
   "outputs": [],
   "source": [
    "## DRIVERS\n",
    "SELECT DRIVERID, COUNT(*) AS DUPLICATE_COUNT\n",
    "FROM ADO_ASG2_GROUP_CAT_DB.ADO_ASG2_GROUP_CAT_SCM.DRIVERS\n",
    "GROUP BY DRIVERID\n",
    "HAVING COUNT(*) > 1;"
   ]
  },
  {
   "cell_type": "code",
   "execution_count": null,
   "id": "1fe546f4-a461-4a2e-9226-ff1f9a857d1b",
   "metadata": {},
   "outputs": [],
   "source": [
    "## DRIVER_STANDINGS\n",
    "SELECT DRIVERSTANDINGSID, COUNT(*) AS DUPLICATE_COUNT\n",
    "FROM ADO_ASG2_GROUP_CAT_DB.ADO_ASG2_GROUP_CAT_SCM.DRIVER_STANDINGS\n",
    "GROUP BY DRIVERSTANDINGSID\n",
    "HAVING COUNT(*) > 1;\n"
   ]
  },
  {
   "cell_type": "code",
   "execution_count": null,
   "id": "1907a54b-645e-48b0-b1c9-88d880e61fca",
   "metadata": {},
   "outputs": [],
   "source": [
    "## LAPTIMES\n",
    "SELECT RACEID, DRIVERID, LAP, COUNT(*) AS DUPLICATE_COUNT\n",
    "FROM ADO_ASG2_GROUP_CAT_DB.ADO_ASG2_GROUP_CAT_SCM.LAPTIMES\n",
    "GROUP BY RACEID, DRIVERID, LAP\n",
    "HAVING COUNT(*) > 1;\n"
   ]
  },
  {
   "cell_type": "code",
   "execution_count": null,
   "id": "425a1dcf-1b76-4f9b-b849-130184e105a4",
   "metadata": {},
   "outputs": [],
   "source": [
    "## PITSTOPS\n",
    "SELECT RACEID, DRIVERID, STOP, LAP, COUNT(*) AS DUPLICATE_COUNT\n",
    "FROM ADO_ASG2_GROUP_CAT_DB.ADO_ASG2_GROUP_CAT_SCM.PITSTOPS\n",
    "GROUP BY RACEID, DRIVERID, STOP, LAP\n",
    "HAVING COUNT(*) > 1;"
   ]
  },
  {
   "cell_type": "code",
   "execution_count": null,
   "id": "7042c720-c95e-4850-adb4-3d39e8ec028d",
   "metadata": {},
   "outputs": [],
   "source": [
    "## QUALIFYING\n",
    "SELECT QUALIFYID, RACEID, DRIVERID, COUNT(*) AS DUPLICATE_COUNT\n",
    "FROM ADO_ASG2_GROUP_CAT_DB.ADO_ASG2_GROUP_CAT_SCM.QUALIFYING\n",
    "GROUP BY QUALIFYID, RACEID, DRIVERID\n",
    "HAVING COUNT(*) > 1;\n"
   ]
  },
  {
   "cell_type": "code",
   "execution_count": null,
   "id": "c3f9eacf-c216-4124-be1a-d9ff8533cf7d",
   "metadata": {},
   "outputs": [],
   "source": [
    "## RACES\n",
    "SELECT RACEID, COUNT(*) AS DUPLICATE_COUNT\n",
    "FROM ADO_ASG2_GROUP_CAT_DB.ADO_ASG2_GROUP_CAT_SCM.RACES\n",
    "GROUP BY RACEID\n",
    "HAVING COUNT(*) > 1;"
   ]
  },
  {
   "cell_type": "code",
   "execution_count": null,
   "id": "e1b5a0f9-ab10-4a58-b6e2-88d441e8c459",
   "metadata": {},
   "outputs": [],
   "source": [
    "## RESULT\n",
    "SELECT RESULTID, COUNT(*) AS DUPLICATE_COUNT\n",
    "FROM ADO_ASG2_GROUP_CAT_DB.ADO_ASG2_GROUP_CAT_SCM.RESULT\n",
    "GROUP BY RESULTID\n",
    "HAVING COUNT(*) > 1;"
   ]
  },
  {
   "cell_type": "code",
   "execution_count": null,
   "id": "3320a91d-5c93-486d-bce9-91dbb9382b29",
   "metadata": {},
   "outputs": [],
   "source": [
    "## SEASONS\n",
    "SELECT YEAR, COUNT(*) AS DUPLICATE_COUNT\n",
    "FROM ADO_ASG2_GROUP_CAT_DB.ADO_ASG2_GROUP_CAT_SCM.SEASONS\n",
    "GROUP BY YEAR\n",
    "HAVING COUNT(*) > 1;"
   ]
  },
  {
   "cell_type": "code",
   "execution_count": null,
   "id": "db713197-3b5c-4163-b37b-920f22494f61",
   "metadata": {},
   "outputs": [],
   "source": [
    "## SPRINT_RESULT_CLEANED\n",
    "SELECT RESULTID, COUNT(*) AS DUPLICATE_COUNT\n",
    "FROM ADO_ASG2_GROUP_CAT_DB.ADO_ASG2_GROUP_CAT_SCM.SPRINT_RESULT_CLEANED\n",
    "GROUP BY RESULTID\n",
    "HAVING COUNT(*) > 1;"
   ]
  },
  {
   "cell_type": "code",
   "execution_count": null,
   "id": "6b0858a3-779a-4319-b3c5-33f82e381938",
   "metadata": {},
   "outputs": [],
   "source": [
    "## STATUS\n",
    "SELECT STATUSID, COUNT(*) AS DUPLICATE_COUNT\n",
    "FROM ADO_ASG2_GROUP_CAT_DB.ADO_ASG2_GROUP_CAT_SCM.STATUS\n",
    "GROUP BY STATUSID\n",
    "HAVING COUNT(*) > 1;"
   ]
  },
  {
   "cell_type": "code",
   "execution_count": 6,
   "id": "b50cf38e-b683-471a-ab80-20e4b820a5aa",
   "metadata": {},
   "outputs": [],
   "source": [
    "## validate data types"
   ]
  },
  {
   "cell_type": "code",
   "execution_count": null,
   "id": "71c6c963-8263-4147-922a-845c7615ddda",
   "metadata": {},
   "outputs": [],
   "source": [
    "## circuits\n",
    "SELECT \n",
    "    CIRCUITID, \n",
    "    CASE \n",
    "        WHEN NOT (CIRCUITID BETWEEN 0 AND 999999999) THEN 'Invalid' ELSE 'Valid' \n",
    "    END AS CIRCUITID_VALIDATION,\n",
    "    LAT,\n",
    "    CASE \n",
    "        WHEN LAT < -90 OR LAT > 90 THEN 'Invalid' ELSE 'Valid' \n",
    "    END AS LAT_VALIDATION,\n",
    "    LNG,\n",
    "    CASE \n",
    "        WHEN LNG < -180 OR LNG > 180 THEN 'Invalid' ELSE 'Valid' \n",
    "    END AS LNG_VALIDATION\n",
    "FROM ADO_ASG2_GROUP_CAT_DB.ADO_ASG2_GROUP_CAT_SCM.CIRCUITS;\n"
   ]
  },
  {
   "cell_type": "code",
   "execution_count": null,
   "id": "5a7eed91-e89a-4c03-9eed-820278223ec8",
   "metadata": {},
   "outputs": [],
   "source": [
    "## 2. CONSTRUCTOR\n",
    "SELECT \n",
    "    CONSTRUCTORID, \n",
    "    CASE \n",
    "        WHEN NOT (CONSTRUCTORID BETWEEN 0 AND 999999999) THEN 'Invalid' ELSE 'Valid' \n",
    "    END AS CONSTRUCTORID_VALIDATION,\n",
    "    NAME\n",
    "FROM ADO_ASG2_GROUP_CAT_DB.ADO_ASG2_GROUP_CAT_SCM.CONSTRUCTOR;"
   ]
  },
  {
   "cell_type": "code",
   "execution_count": null,
   "id": "cb29d459-4448-4468-8bf1-db92db6945d5",
   "metadata": {},
   "outputs": [],
   "source": [
    "## 3. CONSTRUCTOR_RESULTS\n",
    "SELECT \n",
    "    CONSTRUCTORRESULTSID, \n",
    "    CASE \n",
    "        WHEN NOT (CONSTRUCTORRESULTSID BETWEEN 0 AND 999999999) THEN 'Invalid' ELSE 'Valid' \n",
    "    END AS CONSTRUCTORRESULTSID_VALIDATION,\n",
    "    POINTS,\n",
    "    CASE \n",
    "        WHEN POINTS < 0 THEN 'Invalid' ELSE 'Valid' \n",
    "    END AS POINTS_VALIDATION\n",
    "FROM ADO_ASG2_GROUP_CAT_DB.ADO_ASG2_GROUP_CAT_SCM.CONSTRUCTOR_RESULTS;"
   ]
  },
  {
   "cell_type": "code",
   "execution_count": null,
   "id": "4bceb175-0928-439d-8840-a0832bd6001a",
   "metadata": {},
   "outputs": [],
   "source": [
    "## 4. CONSTRUCTOR_STANDINGS\n",
    "SELECT \n",
    "    CONSTRUCTORSTANDINGSID,\n",
    "    CASE \n",
    "        WHEN NOT (CONSTRUCTORSTANDINGSID BETWEEN 0 AND 999999999) THEN 'Invalid' ELSE 'Valid' \n",
    "    END AS CONSTRUCTORSTANDINGSID_VALIDATION,\n",
    "    POINTS,\n",
    "    CASE \n",
    "        WHEN POINTS < 0 THEN 'Invalid' ELSE 'Valid' \n",
    "    END AS POINTS_VALIDATION\n",
    "FROM ADO_ASG2_GROUP_CAT_DB.ADO_ASG2_GROUP_CAT_SCM.CONSTRUCTOR_STANDINGS;"
   ]
  },
  {
   "cell_type": "code",
   "execution_count": null,
   "id": "c68d754e-78fb-45f3-8460-39677eac4e8b",
   "metadata": {},
   "outputs": [],
   "source": [
    "## 5. DRIVERS\n",
    "SELECT \n",
    "    DRIVERID, \n",
    "    CASE \n",
    "        WHEN NOT (DRIVERID BETWEEN 0 AND 999999999) THEN 'Invalid' ELSE 'Valid' \n",
    "    END AS DRIVERID_VALIDATION,\n",
    "    DOB,\n",
    "    CASE \n",
    "        WHEN TRY_TO_DATE(DOB) IS NULL THEN 'Invalid' ELSE 'Valid' \n",
    "    END AS DOB_VALIDATION\n",
    "FROM ADO_ASG2_GROUP_CAT_DB.ADO_ASG2_GROUP_CAT_SCM.DRIVERS;"
   ]
  },
  {
   "cell_type": "code",
   "execution_count": null,
   "id": "34cd32e8-c5db-487a-9b55-b510d5b4f312",
   "metadata": {},
   "outputs": [],
   "source": [
    "## 6. DRIVER_STANDINGS\n",
    "SELECT \n",
    "    DRIVERSTANDINGSID, \n",
    "    CASE \n",
    "        WHEN TRY_CAST(DRIVERSTANDINGSID AS NUMBER) IS NULL THEN 'Invalid' ELSE 'Valid' \n",
    "    END AS DRIVERSTANDINGSID_VALIDATION,\n",
    "    ACCUMULATEDPOINTS,\n",
    "    CASE \n",
    "        WHEN TRY_CAST(ACCUMULATEDPOINTS AS FLOAT) IS NULL THEN 'Invalid' ELSE 'Valid' \n",
    "    END AS ACCUMULATEDPOINTS_VALIDATION\n",
    "FROM ADO_ASG2_GROUP_CAT_DB.ADO_ASG2_GROUP_CAT_SCM.DRIVER_STANDINGS;"
   ]
  },
  {
   "cell_type": "code",
   "execution_count": null,
   "id": "f3ccb32d-7501-4cb8-b62a-5d4357b4bdfc",
   "metadata": {},
   "outputs": [],
   "source": [
    "## 7. LAPTIMES\n",
    "SELECT \n",
    "    RACEID, DRIVERID, LAP, \n",
    "    CASE \n",
    "        WHEN TRY_CAST(LAP AS NUMBER) IS NULL THEN 'Invalid' ELSE 'Valid' \n",
    "    END AS LAP_VALIDATION,\n",
    "    TOTAL_SECONDS,\n",
    "    CASE \n",
    "        WHEN TRY_CAST(TOTAL_SECONDS AS FLOAT) IS NULL THEN 'Invalid' ELSE 'Valid' \n",
    "    END AS TOTAL_SECONDS_VALIDATION\n",
    "FROM ADO_ASG2_GROUP_CAT_DB.ADO_ASG2_GROUP_CAT_SCM.LAPTIMES;"
   ]
  },
  {
   "cell_type": "code",
   "execution_count": null,
   "id": "4f9ce3c5-fa4a-41fb-8ae1-fb48786ed105",
   "metadata": {},
   "outputs": [],
   "source": [
    "## 8. PITSTOPS\n",
    "SELECT \n",
    "    RACEID, DRIVERID, STOP,\n",
    "    CASE \n",
    "        WHEN NOT (STOP BETWEEN 0 AND 100) THEN 'Invalid' ELSE 'Valid' \n",
    "    END AS STOP_VALIDATION,\n",
    "    DURATION,\n",
    "    CASE \n",
    "        WHEN DURATION < 0 THEN 'Invalid' ELSE 'Valid' \n",
    "    END AS DURATION_VALIDATION\n",
    "FROM ADO_ASG2_GROUP_CAT_DB.ADO_ASG2_GROUP_CAT_SCM.PITSTOPS;"
   ]
  },
  {
   "cell_type": "code",
   "execution_count": null,
   "id": "50bc038c-13d8-4005-9cc3-c9d226e43bc1",
   "metadata": {},
   "outputs": [],
   "source": [
    "## 9. QUALIFYING\n",
    "SELECT \n",
    "    QUALIFYID, RACEID, DRIVERID, \n",
    "    Q1_IN_SECONDS, \n",
    "    CASE \n",
    "        WHEN Q1_IN_SECONDS < 0 THEN 'Invalid' ELSE 'Valid' \n",
    "    END AS Q1_VALIDATION\n",
    "FROM ADO_ASG2_GROUP_CAT_DB.ADO_ASG2_GROUP_CAT_SCM.QUALIFYING;"
   ]
  },
  {
   "cell_type": "code",
   "execution_count": null,
   "id": "83fe9104-4916-4dc9-8186-08bb996025fe",
   "metadata": {},
   "outputs": [],
   "source": [
    "## 10. RACES\n",
    "SELECT \n",
    "    RACEID, YEAR, ROUND,\n",
    "    CASE \n",
    "        WHEN NOT (YEAR BETWEEN 1950 AND 2100) THEN 'Invalid' ELSE 'Valid' \n",
    "    END AS YEAR_VALIDATION\n",
    "FROM ADO_ASG2_GROUP_CAT_DB.ADO_ASG2_GROUP_CAT_SCM.RACES;"
   ]
  },
  {
   "cell_type": "code",
   "execution_count": null,
   "id": "1f90911e-3262-4c2b-b8f9-5cfc486ac74b",
   "metadata": {},
   "outputs": [],
   "source": [
    "##11. RESULT_CLEANED\n",
    "SELECT \n",
    "    RESULTID, RACEID, DRIVERID, CONSTRUCTORID, POINTS,\n",
    "    CASE \n",
    "        WHEN POINTS < 0 THEN 'Invalid' ELSE 'Valid' \n",
    "    END AS POINTS_VALIDATION\n",
    "FROM ADO_ASG2_GROUP_CAT_DB.ADO_ASG2_GROUP_CAT_SCM.RESULT_CLEANED;"
   ]
  },
  {
   "cell_type": "code",
   "execution_count": null,
   "id": "097b1fac-a76d-4a9c-b834-b78f8359cc57",
   "metadata": {},
   "outputs": [],
   "source": [
    "## 12. SEASONS\n",
    "SELECT \n",
    "    YEAR, \n",
    "    CASE \n",
    "        WHEN NOT (YEAR BETWEEN 1950 AND 2100) THEN 'Invalid' ELSE 'Valid' \n",
    "    END AS YEAR_VALIDATION\n",
    "FROM ADO_ASG2_GROUP_CAT_DB.ADO_ASG2_GROUP_CAT_SCM.SEASONS;"
   ]
  },
  {
   "cell_type": "code",
   "execution_count": null,
   "id": "9c9d7487-62a3-4d97-8524-0535ec968ea4",
   "metadata": {},
   "outputs": [],
   "source": [
    "## 13. SPRINT_RESULT_CLEANED\n",
    "SELECT \n",
    "    RESULTID, RACEID, DRIVERID, \n",
    "    TIME_IN_SECONDS,\n",
    "    CASE \n",
    "        WHEN TIME_IN_SECONDS < 0 THEN 'Placeholder' ELSE 'Valid' \n",
    "    END AS TIME_VALIDATION\n",
    "FROM ADO_ASG2_GROUP_CAT_DB.ADO_ASG2_GROUP_CAT_SCM.SPRINT_RESULT_CLEANED;"
   ]
  },
  {
   "cell_type": "code",
   "execution_count": null,
   "id": "1b014c60-865d-4b69-8924-a1ccbdcedb55",
   "metadata": {},
   "outputs": [],
   "source": [
    "## 14. STATUS\n",
    "SELECT \n",
    "    STATUSID, STATUS,\n",
    "    CASE \n",
    "        WHEN NOT (STATUSID BETWEEN 0 AND 999999999) THEN 'Invalid' ELSE 'Valid' \n",
    "    END AS STATUSID_VALIDATION\n",
    "FROM ADO_ASG2_GROUP_CAT_DB.ADO_ASG2_GROUP_CAT_SCM.STATUS;"
   ]
  },
  {
   "cell_type": "code",
   "execution_count": 8,
   "id": "85e7016e-4bb7-48c9-b25a-1ffa45252163",
   "metadata": {},
   "outputs": [],
   "source": [
    "### foreign key validation"
   ]
  },
  {
   "cell_type": "code",
   "execution_count": null,
   "id": "1d354ab1-d8a0-44de-8187-73933e8b4d80",
   "metadata": {},
   "outputs": [],
   "source": [
    "## Validate CONSTRUCTORID in CONSTRUCTOR_RESULTS against CONSTRUCTOR\n",
    "SELECT CONSTRUCTORRESULTSID, CONSTRUCTORID\n",
    "FROM ADO_ASG2_GROUP_CAT_DB.ADO_ASG2_GROUP_CAT_SCM.CONSTRUCTOR_RESULTS AS CR\n",
    "WHERE CR.CONSTRUCTORID NOT IN (\n",
    "    SELECT CONSTRUCTORID\n",
    "    FROM ADO_ASG2_GROUP_CAT_DB.ADO_ASG2_GROUP_CAT_SCM.CONSTRUCTOR\n",
    ");"
   ]
  },
  {
   "cell_type": "code",
   "execution_count": null,
   "id": "b70fa709-b3ca-4e39-995e-633173605544",
   "metadata": {},
   "outputs": [],
   "source": [
    "## Validate RACEID in CONSTRUCTOR_RESULTS against RACES\n",
    "SELECT CONSTRUCTORRESULTSID, RACEID\n",
    "FROM ADO_ASG2_GROUP_CAT_DB.ADO_ASG2_GROUP_CAT_SCM.CONSTRUCTOR_RESULTS AS CR\n",
    "WHERE CR.RACEID NOT IN (\n",
    "    SELECT RACEID\n",
    "    FROM ADO_ASG2_GROUP_CAT_DB.ADO_ASG2_GROUP_CAT_SCM.RACES\n",
    ");"
   ]
  },
  {
   "cell_type": "code",
   "execution_count": null,
   "id": "80c2b56c-7ace-4ab6-a4cb-f3b988df9eea",
   "metadata": {},
   "outputs": [],
   "source": [
    "## Validate CONSTRUCTORID in CONSTRUCTOR_STANDINGS against CONSTRUCTOR\n",
    "SELECT CONSTRUCTORSTANDINGSID, CONSTRUCTORID\n",
    "FROM ADO_ASG2_GROUP_CAT_DB.ADO_ASG2_GROUP_CAT_SCM.CONSTRUCTOR_STANDINGS AS CS\n",
    "WHERE CS.CONSTRUCTORID NOT IN (\n",
    "    SELECT CONSTRUCTORID\n",
    "    FROM ADO_ASG2_GROUP_CAT_DB.ADO_ASG2_GROUP_CAT_SCM.CONSTRUCTOR\n",
    ");"
   ]
  },
  {
   "cell_type": "code",
   "execution_count": null,
   "id": "c7d94f01-9055-480f-a4e9-bdf370733bb5",
   "metadata": {},
   "outputs": [],
   "source": [
    "## Validate RACEID in CONSTRUCTOR_STANDINGS against RACES\n",
    "SELECT CONSTRUCTORSTANDINGSID, RACEID\n",
    "FROM ADO_ASG2_GROUP_CAT_DB.ADO_ASG2_GROUP_CAT_SCM.CONSTRUCTOR_STANDINGS AS CS\n",
    "WHERE CS.RACEID NOT IN (\n",
    "    SELECT RACEID\n",
    "    FROM ADO_ASG2_GROUP_CAT_DB.ADO_ASG2_GROUP_CAT_SCM.RACES\n",
    ");"
   ]
  },
  {
   "cell_type": "code",
   "execution_count": null,
   "id": "b7e699a0-fead-472e-801c-802785a5981d",
   "metadata": {},
   "outputs": [],
   "source": [
    "## Validate DRIVERID in DRIVER_STANDINGS against DRIVERS\n",
    "SELECT DRIVERSTANDINGSID, DRIVERID\n",
    "FROM ADO_ASG2_GROUP_CAT_DB.ADO_ASG2_GROUP_CAT_SCM.DRIVER_STANDINGS AS DS\n",
    "WHERE DS.DRIVERID NOT IN (\n",
    "    SELECT DRIVERID\n",
    "    FROM ADO_ASG2_GROUP_CAT_DB.ADO_ASG2_GROUP_CAT_SCM.DRIVERS\n",
    ");"
   ]
  },
  {
   "cell_type": "code",
   "execution_count": null,
   "id": "3b4a8d24-572c-47f7-b909-324c2f756382",
   "metadata": {},
   "outputs": [],
   "source": [
    "## Validate RACEID in DRIVER_STANDINGS against RACES\n",
    "SELECT DRIVERSTANDINGSID, RACEID\n",
    "FROM ADO_ASG2_GROUP_CAT_DB.ADO_ASG2_GROUP_CAT_SCM.DRIVER_STANDINGS AS DS\n",
    "WHERE DS.RACEID NOT IN (\n",
    "    SELECT RACEID\n",
    "    FROM ADO_ASG2_GROUP_CAT_DB.ADO_ASG2_GROUP_CAT_SCM.RACES\n",
    ");"
   ]
  },
  {
   "cell_type": "code",
   "execution_count": null,
   "id": "f143373e-9b97-4ec6-943b-200eb5f8bed4",
   "metadata": {},
   "outputs": [],
   "source": [
    "## Validate DRIVERID in LAPTIMES against DRIVERS\n",
    "SELECT RACEID, DRIVERID\n",
    "FROM ADO_ASG2_GROUP_CAT_DB.ADO_ASG2_GROUP_CAT_SCM.LAPTIMES AS LT\n",
    "WHERE LT.DRIVERID NOT IN (\n",
    "    SELECT DRIVERID\n",
    "    FROM ADO_ASG2_GROUP_CAT_DB.ADO_ASG2_GROUP_CAT_SCM.DRIVERS\n",
    ");"
   ]
  },
  {
   "cell_type": "code",
   "execution_count": null,
   "id": "d33f7cca-fbad-4939-96f6-bbcd20ec4769",
   "metadata": {},
   "outputs": [],
   "source": [
    "## Validate RACEID in LAPTIMES against RACES\n",
    "SELECT RACEID, DRIVERID\n",
    "FROM ADO_ASG2_GROUP_CAT_DB.ADO_ASG2_GROUP_CAT_SCM.LAPTIMES AS LT\n",
    "WHERE LT.RACEID NOT IN (\n",
    "    SELECT RACEID\n",
    "    FROM ADO_ASG2_GROUP_CAT_DB.ADO_ASG2_GROUP_CAT_SCM.RACES\n",
    ");"
   ]
  },
  {
   "cell_type": "code",
   "execution_count": null,
   "id": "bc314c58-0aed-4aa0-8442-1cd4ed067613",
   "metadata": {},
   "outputs": [],
   "source": [
    "## Validate DRIVERID in PITSTOPS against DRIVERS\n",
    "SELECT RACEID, DRIVERID\n",
    "FROM ADO_ASG2_GROUP_CAT_DB.ADO_ASG2_GROUP_CAT_SCM.PITSTOPS AS PS\n",
    "WHERE PS.DRIVERID NOT IN (\n",
    "    SELECT DRIVERID\n",
    "    FROM ADO_ASG2_GROUP_CAT_DB.ADO_ASG2_GROUP_CAT_SCM.DRIVERS\n",
    ");\n"
   ]
  },
  {
   "cell_type": "code",
   "execution_count": null,
   "id": "5a6fed7d-c714-41a7-8a77-df331be57a84",
   "metadata": {},
   "outputs": [],
   "source": [
    "## Validate RACEID in PITSTOPS against RACES\n",
    "SELECT RACEID, DRIVERID\n",
    "FROM ADO_ASG2_GROUP_CAT_DB.ADO_ASG2_GROUP_CAT_SCM.PITSTOPS AS PS\n",
    "WHERE PS.RACEID NOT IN (\n",
    "    SELECT RACEID\n",
    "    FROM ADO_ASG2_GROUP_CAT_DB.ADO_ASG2_GROUP_CAT_SCM.RACES\n",
    ");"
   ]
  },
  {
   "cell_type": "code",
   "execution_count": null,
   "id": "2b05baa0-dc62-4a45-afea-e9c252fa2237",
   "metadata": {},
   "outputs": [],
   "source": [
    "## Validate DRIVERID in QUALIFYING against DRIVERS\n",
    "SELECT QUALIFYID, DRIVERID\n",
    "FROM ADO_ASG2_GROUP_CAT_DB.ADO_ASG2_GROUP_CAT_SCM.QUALIFYING AS Q\n",
    "WHERE Q.DRIVERID NOT IN (\n",
    "    SELECT DRIVERID\n",
    "    FROM ADO_ASG2_GROUP_CAT_DB.ADO_ASG2_GROUP_CAT_SCM.DRIVERS\n",
    ");"
   ]
  },
  {
   "cell_type": "code",
   "execution_count": null,
   "id": "be89278a-8edd-4547-9624-009a58b13f59",
   "metadata": {},
   "outputs": [],
   "source": [
    "## Validate CONSTRUCTORID in QUALIFYING against CONSTRUCTOR\n",
    "SELECT QUALIFYID, CONSTRUCTORID\n",
    "FROM ADO_ASG2_GROUP_CAT_DB.ADO_ASG2_GROUP_CAT_SCM.QUALIFYING AS Q\n",
    "WHERE Q.CONSTRUCTORID NOT IN (\n",
    "    SELECT CONSTRUCTORID\n",
    "    FROM ADO_ASG2_GROUP_CAT_DB.ADO_ASG2_GROUP_CAT_SCM.CONSTRUCTOR\n",
    ");\n"
   ]
  },
  {
   "cell_type": "code",
   "execution_count": null,
   "id": "8951a426-66f5-44d2-92f5-71fab7b0cde8",
   "metadata": {},
   "outputs": [],
   "source": [
    "## Validate RACEID in QUALIFYING against RACES\n",
    "SELECT QUALIFYID, RACEID\n",
    "FROM ADO_ASG2_GROUP_CAT_DB.ADO_ASG2_GROUP_CAT_SCM.QUALIFYING AS Q\n",
    "WHERE Q.RACEID NOT IN (\n",
    "    SELECT RACEID\n",
    "    FROM ADO_ASG2_GROUP_CAT_DB.ADO_ASG2_GROUP_CAT_SCM.RACES\n",
    ");"
   ]
  },
  {
   "cell_type": "code",
   "execution_count": null,
   "id": "2054ea82-b3a0-44d9-b6df-644b2f9e5012",
   "metadata": {},
   "outputs": [],
   "source": [
    "## Validate DRIVERID in RESULTS against DRIVERS\n",
    "SELECT RESULTID, DRIVERID\n",
    "FROM ADO_ASG2_GROUP_CAT_DB.ADO_ASG2_GROUP_CAT_SCM.RESULTS AS R\n",
    "WHERE R.DRIVERID NOT IN (\n",
    "    SELECT DRIVERID\n",
    "    FROM ADO_ASG2_GROUP_CAT_DB.ADO_ASG2_GROUP_CAT_SCM.DRIVERS\n",
    ");"
   ]
  },
  {
   "cell_type": "code",
   "execution_count": null,
   "id": "9898ae39-a093-42c2-915c-7b4261e60e33",
   "metadata": {},
   "outputs": [],
   "source": [
    "## Validate CONSTRUCTORID in RESULTS against CONSTRUCTOR\n",
    "SELECT RESULTID, CONSTRUCTORID\n",
    "FROM ADO_ASG2_GROUP_CAT_DB.ADO_ASG2_GROUP_CAT_SCM.RESULTS AS R\n",
    "WHERE R.CONSTRUCTORID NOT IN (\n",
    "    SELECT CONSTRUCTORID\n",
    "    FROM ADO_ASG2_GROUP_CAT_DB.ADO_ASG2_GROUP_CAT_SCM.CONSTRUCTOR\n",
    ");"
   ]
  },
  {
   "cell_type": "code",
   "execution_count": null,
   "id": "deb89f8f-43d6-4964-80eb-660dab0fdb52",
   "metadata": {},
   "outputs": [],
   "source": [
    "## Validate RACEID in RESULTS against RACES\n",
    "SELECT RESULTID, RACEID\n",
    "FROM ADO_ASG2_GROUP_CAT_DB.ADO_ASG2_GROUP_CAT_SCM.RESULTS AS R\n",
    "WHERE R.RACEID NOT IN (\n",
    "    SELECT RACEID\n",
    "    FROM ADO_ASG2_GROUP_CAT_DB.ADO_ASG2_GROUP_CAT_SCM.RACES\n",
    ");"
   ]
  },
  {
   "cell_type": "code",
   "execution_count": null,
   "id": "44759c4f-fde4-4f4c-9a5a-aad0099a803e",
   "metadata": {},
   "outputs": [],
   "source": [
    "## Validate STATUSID in RESULTS against STATUS\n",
    "SELECT RESULTID, STATUSID\n",
    "FROM ADO_ASG2_GROUP_CAT_DB.ADO_ASG2_GROUP_CAT_SCM.RESULTS AS R\n",
    "WHERE R.STATUSID NOT IN (\n",
    "    SELECT STATUSID\n",
    "    FROM ADO_ASG2_GROUP_CAT_DB.ADO_ASG2_GROUP_CAT_SCM.STATUS\n",
    ");"
   ]
  },
  {
   "cell_type": "code",
   "execution_count": null,
   "id": "8e61681a-cdda-420f-b8d2-a41eeb3bc625",
   "metadata": {},
   "outputs": [],
   "source": [
    "## Validate DRIVERID in SPRINT_RESULTS against DRIVERS\n",
    "SELECT RESULTID, DRIVERID\n",
    "FROM ADO_ASG2_GROUP_CAT_DB.ADO_ASG2_GROUP_CAT_SCM.SPRINT_RESULTS_CLEANED AS SR\n",
    "WHERE SR.DRIVERID NOT IN (\n",
    "    SELECT DRIVERID\n",
    "    FROM ADO_ASG2_GROUP_CAT_DB.ADO_ASG2_GROUP_CAT_SCM.DRIVERS\n",
    ");"
   ]
  },
  {
   "cell_type": "code",
   "execution_count": null,
   "id": "55b5c6d4-0d4b-4b7b-81f8-0ac90d7915df",
   "metadata": {},
   "outputs": [],
   "source": [
    "## Validate CONSTRUCTORID in SPRINT_RESULTS against CONSTRUCTOR\n",
    "SELECT RESULTID, CONSTRUCTORID\n",
    "FROM ADO_ASG2_GROUP_CAT_DB.ADO_ASG2_GROUP_CAT_SCM.SPRINT_RESULTS_CLEANED AS SR\n",
    "WHERE SR.CONSTRUCTORID NOT IN (\n",
    "    SELECT CONSTRUCTORID\n",
    "    FROM ADO_ASG2_GROUP_CAT_DB.ADO_ASG2_GROUP_CAT_SCM.CONSTRUCTOR\n",
    ");"
   ]
  },
  {
   "cell_type": "code",
   "execution_count": null,
   "id": "82c756b3-a80b-42f0-b86d-f43af0f7cd5b",
   "metadata": {},
   "outputs": [],
   "source": [
    "## Validate RACEID in SPRINT_RESULTS against RACES\n",
    "SELECT RESULTID, RACEID\n",
    "FROM ADO_ASG2_GROUP_CAT_DB.ADO_ASG2_GROUP_CAT_SCM.SPRINT_RESULTS_CLEANED AS SR\n",
    "WHERE SR.RACEID NOT IN (\n",
    "    SELECT RACEID\n",
    "    FROM ADO_ASG2_GROUP_CAT_DB.ADO_ASG2_GROUP_CAT_SCM.RACES\n",
    ");"
   ]
  },
  {
   "cell_type": "code",
   "execution_count": null,
   "id": "d6b48ff4-f24a-43c0-a24a-8957f54d9f6a",
   "metadata": {},
   "outputs": [],
   "source": [
    "## Validate STATUSID in SPRINT_RESULTS against STATUS\n",
    "SELECT RESULTID, STATUSID\n",
    "FROM ADO_ASG2_GROUP_CAT_DB.ADO_ASG2_GROUP_CAT_SCM.SPRINT_RESULTS_CLEANED AS SR\n",
    "WHERE SR.STATUSID NOT IN (\n",
    "    SELECT STATUSID\n",
    "    FROM ADO_ASG2_GROUP_CAT_DB.ADO_ASG2_GROUP_CAT_SCM.STATUS\n",
    ");"
   ]
  },
  {
   "cell_type": "code",
   "execution_count": 10,
   "id": "fa509a2a-00b8-4357-9d88-7e6233fa5f0d",
   "metadata": {},
   "outputs": [],
   "source": [
    "## double check data makes sense and is under the data integrity"
   ]
  },
  {
   "cell_type": "code",
   "execution_count": null,
   "id": "7aa97f5b-cc49-4ad4-9b32-f9242157a269",
   "metadata": {},
   "outputs": [],
   "source": [
    "## circuits\n",
    "SELECT CIRCUITID, LAT, LNG\n",
    "FROM ADO_ASG2_GROUP_CAT_DB.ADO_ASG2_GROUP_CAT_SCM.CIRCUITS\n",
    "WHERE LAT < -90 OR LAT > 90 OR LNG < -180 OR LNG > 180;\n",
    "\n",
    "SELECT CIRCUITID, COUNTRY, LOCATION\n",
    "FROM ADO_ASG2_GROUP_CAT_DB.ADO_ASG2_GROUP_CAT_SCM.CIRCUITS\n",
    "WHERE COUNTRY IS NULL OR LOCATION IS NULL;"
   ]
  },
  {
   "cell_type": "code",
   "execution_count": null,
   "id": "0c677a5e-e1f9-452b-aa08-d089fdd1e5e8",
   "metadata": {},
   "outputs": [],
   "source": [
    "## constructor\n",
    "SELECT CONSTRUCTORID, NAME, COUNT(*)\n",
    "FROM ADO_ASG2_GROUP_CAT_DB.ADO_ASG2_GROUP_CAT_SCM.CONSTRUCTOR\n",
    "WHERE NAME IS NULL\n",
    "GROUP BY CONSTRUCTORID, NAME\n",
    "HAVING COUNT(*) > 1;"
   ]
  },
  {
   "cell_type": "code",
   "execution_count": null,
   "id": "8af1334a-5f55-45d3-bb18-7cfe3f2d0e5f",
   "metadata": {},
   "outputs": [],
   "source": [
    "## -- constructor_results\n",
    "SELECT CONSTRUCTORRESULTSID, POINTS\n",
    "FROM ADO_ASG2_GROUP_CAT_DB.ADO_ASG2_GROUP_CAT_SCM.CONSTRUCTOR_RESULTS\n",
    "WHERE POINTS < 0;\n",
    "SELECT CR.CONSTRUCTORRESULTSID, CR.RACEID, C.CONSTRUCTORID\n",
    "FROM ADO_ASG2_GROUP_CAT_DB.ADO_ASG2_GROUP_CAT_SCM.CONSTRUCTOR_RESULTS AS CR\n",
    "LEFT JOIN ADO_ASG2_GROUP_CAT_DB.ADO_ASG2_GROUP_CAT_SCM.CONSTRUCTOR AS C\n",
    "  ON CR.CONSTRUCTORID = C.CONSTRUCTORID\n",
    "WHERE C.CONSTRUCTORID IS NULL;\n"
   ]
  },
  {
   "cell_type": "code",
   "execution_count": null,
   "id": "8d12586c-698c-4a20-9762-b4a057ed5cb9",
   "metadata": {},
   "outputs": [],
   "source": [
    "## -- constructor_standings\n",
    "SELECT CONSTRUCTORSTANDINGSID, POSITION, POINTS\n",
    "FROM ADO_ASG2_GROUP_CAT_DB.ADO_ASG2_GROUP_CAT_SCM.CONSTRUCTOR_STANDINGS\n",
    "WHERE POSITION < 1 OR POINTS < 0;\n"
   ]
  },
  {
   "cell_type": "code",
   "execution_count": null,
   "id": "d463b5d3-43e9-4569-912a-e0299d32eca8",
   "metadata": {},
   "outputs": [],
   "source": [
    "## -- drivers\n",
    "SELECT DRIVERID, FORENAME, SURNAME\n",
    "FROM ADO_ASG2_GROUP_CAT_DB.ADO_ASG2_GROUP_CAT_SCM.DRIVERS\n",
    "WHERE FORENAME IS NULL OR SURNAME IS NULL;\n",
    "SELECT DRIVERID, DOB\n",
    "FROM ADO_ASG2_GROUP_CAT_DB.ADO_ASG2_GROUP_CAT_SCM.DRIVERS\n",
    "WHERE DOB < '1900-01-01' OR DOB > CURRENT_DATE;"
   ]
  },
  {
   "cell_type": "code",
   "execution_count": null,
   "id": "a738bb16-212e-4a92-8fba-2860315cb751",
   "metadata": {},
   "outputs": [],
   "source": [
    "## -- driver_standings\n",
    "SELECT DRIVERSTANDINGSID, ACCUMULATEDPOINTS, WINS\n",
    "FROM ADO_ASG2_GROUP_CAT_DB.ADO_ASG2_GROUP_CAT_SCM.DRIVER_STANDINGS\n",
    "WHERE ACCUMULATEDPOINTS < 0 OR WINS < 0;\n"
   ]
  },
  {
   "cell_type": "code",
   "execution_count": null,
   "id": "60848f82-b210-4761-ae0f-d9b7b6f66a76",
   "metadata": {},
   "outputs": [],
   "source": [
    "## --laptimes\n",
    "SELECT RACEID, DRIVERID, LAP, TOTAL_SECONDS\n",
    "FROM ADO_ASG2_GROUP_CAT_DB.ADO_ASG2_GROUP_CAT_SCM.LAPTIMES\n",
    "WHERE TOTAL_SECONDS < 0;\n"
   ]
  },
  {
   "cell_type": "code",
   "execution_count": null,
   "id": "77064ed2-7f73-4901-b0fe-de549705bc34",
   "metadata": {},
   "outputs": [],
   "source": [
    "## -pit_stops\n",
    "SELECT RACEID, DRIVERID, STOP, DURATION\n",
    "FROM ADO_ASG2_GROUP_CAT_DB.ADO_ASG2_GROUP_CAT_SCM.PITSTOPS\n",
    "WHERE DURATION < 0;"
   ]
  },
  {
   "cell_type": "code",
   "execution_count": null,
   "id": "30330e46-d323-4cd6-aeb8-b9f661860db1",
   "metadata": {},
   "outputs": [],
   "source": [
    "## -- qualifying\n",
    "SELECT QUALIFYID, Q1_IN_SECONDS, Q2_IN_SECONDS, Q3_IN_SECONDS\n",
    "FROM ADO_ASG2_GROUP_CAT_DB.ADO_ASG2_GROUP_CAT_SCM.QUALIFYING\n",
    "WHERE Q1_IN_SECONDS < 0 OR Q2_IN_SECONDS < 0 OR Q3_IN_SECONDS < 0;"
   ]
  },
  {
   "cell_type": "code",
   "execution_count": 12,
   "id": "d9e345a6-2a41-4387-a042-3e7d44b1e32b",
   "metadata": {},
   "outputs": [],
   "source": [
    "## minor changes to negative"
   ]
  },
  {
   "cell_type": "code",
   "execution_count": null,
   "id": "abe53203-622f-4a5b-bfd2-a24418100ac2",
   "metadata": {},
   "outputs": [],
   "source": [
    "## races\n",
    "SELECT RACEID, YEAR, ROUND\n",
    "FROM ADO_ASG2_GROUP_CAT_DB.ADO_ASG2_GROUP_CAT_SCM.RACES\n",
    "WHERE YEAR < 1950 OR YEAR > 2100 OR ROUND < 1;"
   ]
  },
  {
   "cell_type": "code",
   "execution_count": null,
   "id": "b30387b9-3eec-4e26-8c66-d482b45c8f2d",
   "metadata": {},
   "outputs": [],
   "source": [
    "##result\n",
    "SELECT RESULTID, POINTS, POSITIONORDER\n",
    "FROM ADO_ASG2_GROUP_CAT_DB.ADO_ASG2_GROUP_CAT_SCM.RESULT_CLEANED\n",
    "WHERE POINTS < 0 OR POSITIONORDER < 1;"
   ]
  },
  {
   "cell_type": "code",
   "execution_count": null,
   "id": "e0990555-a436-4c27-97d2-5a6add21492e",
   "metadata": {},
   "outputs": [],
   "source": [
    "## seasons\n",
    "SELECT YEAR, COUNT(*)\n",
    "FROM ADO_ASG2_GROUP_CAT_DB.ADO_ASG2_GROUP_CAT_SCM.SEASONS\n",
    "GROUP BY YEAR\n",
    "HAVING COUNT(*) > 1;\n"
   ]
  },
  {
   "cell_type": "code",
   "execution_count": null,
   "id": "6cd78f68-1f6f-4395-b799-b3d195554ec4",
   "metadata": {},
   "outputs": [],
   "source": [
    "## sprint_results\n",
    "SELECT *\n",
    "FROM ADO_ASG2_GROUP_CAT_DB.ADO_ASG2_GROUP_CAT_SCM.SPRINT_RESULT_CLEANED"
   ]
  },
  {
   "cell_type": "code",
   "execution_count": null,
   "id": "68f0cb1f-bc13-4395-a50c-7177082ae963",
   "metadata": {},
   "outputs": [],
   "source": [
    "## status\n",
    "SELECT STATUSID, STATUS\n",
    "FROM ADO_ASG2_GROUP_CAT_DB.ADO_ASG2_GROUP_CAT_SCM.STATUS\n",
    "WHERE STATUS IS NULL;\n"
   ]
  }
 ],
 "metadata": {
  "kernelspec": {
   "display_name": "Python 3 (ipykernel)",
   "language": "python",
   "name": "python3"
  },
  "language_info": {
   "codemirror_mode": {
    "name": "ipython",
    "version": 3
   },
   "file_extension": ".py",
   "mimetype": "text/x-python",
   "name": "python",
   "nbconvert_exporter": "python",
   "pygments_lexer": "ipython3",
   "version": "3.12.4"
  }
 },
 "nbformat": 4,
 "nbformat_minor": 5
}
