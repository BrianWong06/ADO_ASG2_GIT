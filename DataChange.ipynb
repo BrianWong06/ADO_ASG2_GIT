{
 "cells": [
  {
   "cell_type": "markdown",
   "id": "5c40104f-8428-4114-9dfd-568679ebfe56",
   "metadata": {},
   "source": [
    "<table class=\"table table-bordered\">\n",
    "    <tr>\n",
    "        <th style=\"text-align:center; vertical-align: middle; width:50%\"><img src='https://www.np.edu.sg/images/default-source/default-album/img-logo.png'\"></th>\n",
    "        <th style=\"text-align:center;\"><h1>Agile DataOps</h1><h2>Assignment 2(Group) - Data Change</h2><h3>AY2024/25 Semester</h3></th>\n",
    "    </tr>\n",
    "</table>"
   ]
  },
  {
   "cell_type": "markdown",
   "id": "e45cae4f-2f9c-4687-be89-518f73e9363f",
   "metadata": {},
   "source": [
    "Changing data types, because appearing snowflake counts them as NUMBER(), and without explictly setting them as the correct data types they should be, will affect data processing in the later part. By doing this now, we ensure a smooth process for data cleansing to come next."
   ]
  },
  {
   "cell_type": "code",
   "execution_count": 1,
   "id": "5c4615a7-844a-4ec1-bfad-2a3471afd28c",
   "metadata": {},
   "outputs": [],
   "source": [
    "## constructor_results"
   ]
  },
  {
   "cell_type": "code",
   "execution_count": null,
   "id": "9941a763-acff-4388-956d-09fe495719a6",
   "metadata": {},
   "outputs": [],
   "source": [
    "ALTER TABLE ADO_ASG2_GROUP_CAT_DB.ADO_ASG2_GROUP_CAT_SCM.CONSTRUCTOR_RESULTS\n",
    "ADD COLUMN POINTS_FLOAT FLOAT;\n",
    "\n",
    "UPDATE ADO_ASG2_GROUP_CAT_DB.ADO_ASG2_GROUP_CAT_SCM.CONSTRUCTOR_RESULTS\n",
    "SET POINTS_FLOAT = POINTS;\n",
    "\n",
    "ALTER TABLE ADO_ASG2_GROUP_CAT_DB.ADO_ASG2_GROUP_CAT_SCM.CONSTRUCTOR_RESULTS\n",
    "DROP COLUMN POINTS;\n",
    "\n",
    "ALTER TABLE ADO_ASG2_GROUP_CAT_DB.ADO_ASG2_GROUP_CAT_SCM.CONSTRUCTOR_RESULTS\n",
    "RENAME COLUMN POINTS_FLOAT TO POINTS;\n",
    "\n",
    "DESC TABLE ADO_ASG2_GROUP_CAT_DB.ADO_ASG2_GROUP_CAT_SCM.CONSTRUCTOR_RESULTS;\n",
    "SELECT * FROM ADO_ASG2_GROUP_CAT_DB.ADO_ASG2_GROUP_CAT_SCM.CONSTRUCTOR_RESULTS LIMIT 10;\n"
   ]
  },
  {
   "cell_type": "code",
   "execution_count": 3,
   "id": "40a21812-bb1c-4e42-a81c-b10a614596a6",
   "metadata": {},
   "outputs": [],
   "source": [
    "## constructor_standings"
   ]
  },
  {
   "cell_type": "code",
   "execution_count": null,
   "id": "3d81b839-64ce-431c-a2b3-3cc1bbe06fff",
   "metadata": {},
   "outputs": [],
   "source": [
    "ALTER TABLE ADO_ASG2_GROUP_CAT_DB.ADO_ASG2_GROUP_CAT_SCM.CONSTRUCTOR_STANDINGS\n",
    "ADD COLUMN POINTS_FLOAT FLOAT;\n",
    "\n",
    "UPDATE ADO_ASG2_GROUP_CAT_DB.ADO_ASG2_GROUP_CAT_SCM.CONSTRUCTOR_STANDINGS\n",
    "SET POINTS_FLOAT = POINTS;\n",
    "\n",
    "ALTER TABLE ADO_ASG2_GROUP_CAT_DB.ADO_ASG2_GROUP_CAT_SCM.CONSTRUCTOR_STANDINGS\n",
    "DROP COLUMN POINTS;\n",
    "\n",
    "ALTER TABLE ADO_ASG2_GROUP_CAT_DB.ADO_ASG2_GROUP_CAT_SCM.CONSTRUCTOR_STANDINGS\n",
    "RENAME COLUMN POINTS_FLOAT TO POINTS;\n",
    "\n",
    "ALTER TABLE ADO_ASG2_GROUP_CAT_DB.ADO_ASG2_GROUP_CAT_SCM.CONSTRUCTOR_STANDINGS\n",
    "ALTER COLUMN POSITIONTEXT SET DATA TYPE VARCHAR(50);\n",
    "\n",
    "DESC TABLE ADO_ASG2_GROUP_CAT_DB.ADO_ASG2_GROUP_CAT_SCM.CONSTRUCTOR_STANDINGS;\n",
    "SELECT * FROM ADO_ASG2_GROUP_CAT_DB.ADO_ASG2_GROUP_CAT_SCM.CONSTRUCTOR_STANDINGS LIMIT 10;"
   ]
  },
  {
   "cell_type": "code",
   "execution_count": null,
   "id": "a60dcd7f-9cc6-4910-911e-96183c7178ab",
   "metadata": {},
   "outputs": [],
   "source": [
    "ALTER TABLE ADO_ASG2_GROUP_CAT_DB.ADO_ASG2_GROUP_CAT_SCM.CONSTRUCTOR_STANDINGS\n",
    "ADD COLUMN WINS_INT INT;\n",
    "\n",
    "UPDATE ADO_ASG2_GROUP_CAT_DB.ADO_ASG2_GROUP_CAT_SCM.CONSTRUCTOR_STANDINGS\n",
    "SET WINS_INT = WINS;\n",
    "\n",
    "ALTER TABLE ADO_ASG2_GROUP_CAT_DB.ADO_ASG2_GROUP_CAT_SCM.CONSTRUCTOR_STANDINGS\n",
    "DROP COLUMN WINS;\n",
    "\n",
    "ALTER TABLE ADO_ASG2_GROUP_CAT_DB.ADO_ASG2_GROUP_CAT_SCM.CONSTRUCTOR_STANDINGS\n",
    "RENAME COLUMN WINS_INT TO WINS;\n"
   ]
  },
  {
   "cell_type": "code",
   "execution_count": null,
   "id": "d710773d-3921-49f7-a9d4-2705f17a37a1",
   "metadata": {},
   "outputs": [],
   "source": [
    "## driver_standings"
   ]
  },
  {
   "cell_type": "code",
   "execution_count": null,
   "id": "2116b817-e8ea-4d38-8ad9-0ce6f747a0e5",
   "metadata": {},
   "outputs": [],
   "source": [
    "ALTER TABLE ADO_ASG2_GROUP_CAT_DB.ADO_ASG2_GROUP_CAT_SCM.DRIVER_STANDINGS\n",
    "ADD COLUMN ACCUMULATEDPOINTS_FLOAT FLOAT;\n",
    "\n",
    "UPDATE ADO_ASG2_GROUP_CAT_DB.ADO_ASG2_GROUP_CAT_SCM.DRIVER_STANDINGS\n",
    "SET ACCUMULATEDPOINTS_FLOAT = ACCUMULATEDPOINTS;\n",
    "\n",
    "ALTER TABLE ADO_ASG2_GROUP_CAT_DB.ADO_ASG2_GROUP_CAT_SCM.DRIVER_STANDINGS\n",
    "DROP COLUMN ACCUMULATEDPOINTS;\n",
    "\n",
    "ALTER TABLE ADO_ASG2_GROUP_CAT_DB.ADO_ASG2_GROUP_CAT_SCM.DRIVER_STANDINGS\n",
    "RENAME COLUMN ACCUMULATEDPOINTS_FLOAT TO ACCUMULATEDPOINTS;"
   ]
  },
  {
   "cell_type": "code",
   "execution_count": null,
   "id": "b45f9be7-2800-4c0b-a621-2c4dd092261f",
   "metadata": {},
   "outputs": [],
   "source": [
    "ALTER TABLE ADO_ASG2_GROUP_CAT_DB.ADO_ASG2_GROUP_CAT_SCM.DRIVER_STANDINGS\n",
    "ADD COLUMN WINS_INT INT;\n",
    "\n",
    "UPDATE ADO_ASG2_GROUP_CAT_DB.ADO_ASG2_GROUP_CAT_SCM.DRIVER_STANDINGS\n",
    "SET WINS_INT = WINS;\n",
    "\n",
    "ALTER TABLE ADO_ASG2_GROUP_CAT_DB.ADO_ASG2_GROUP_CAT_SCM.DRIVER_STANDINGS\n",
    "DROP COLUMN WINS;\n",
    "\n",
    "ALTER TABLE ADO_ASG2_GROUP_CAT_DB.ADO_ASG2_GROUP_CAT_SCM.DRIVER_STANDINGS\n",
    "RENAME COLUMN WINS_INT TO WINS;\n",
    "\n",
    "DESC TABLE ADO_ASG2_GROUP_CAT_DB.ADO_ASG2_GROUP_CAT_SCM.DRIVER_STANDINGS;\n",
    "SELECT * FROM ADO_ASG2_GROUP_CAT_DB.ADO_ASG2_GROUP_CAT_SCM.DRIVER_STANDINGS LIMIT 10;"
   ]
  },
  {
   "cell_type": "code",
   "execution_count": 5,
   "id": "8af51b0a-3db6-4cd9-9b90-ef001bae4839",
   "metadata": {},
   "outputs": [],
   "source": [
    "## races"
   ]
  },
  {
   "cell_type": "code",
   "execution_count": null,
   "id": "7c212f5f-1ebf-491e-83d6-92ae334bea42",
   "metadata": {},
   "outputs": [],
   "source": [
    "ALTER TABLE ADO_ASG2_GROUP_CAT_DB.ADO_ASG2_GROUP_CAT_SCM.RACES\n",
    "ADD COLUMN YEAR_TEMP NUMBER(4,0);\n",
    "UPDATE ADO_ASG2_GROUP_CAT_DB.ADO_ASG2_GROUP_CAT_SCM.RACES\n",
    "SET YEAR_TEMP = YEAR;\n",
    "ALTER TABLE ADO_ASG2_GROUP_CAT_DB.ADO_ASG2_GROUP_CAT_SCM.RACES\n",
    "DROP COLUMN YEAR;\n",
    "ALTER TABLE ADO_ASG2_GROUP_CAT_DB.ADO_ASG2_GROUP_CAT_SCM.RACES\n",
    "RENAME COLUMN YEAR_TEMP TO YEAR;\n",
    "\n",
    "DESC TABLE ADO_ASG2_GROUP_CAT_DB.ADO_ASG2_GROUP_CAT_SCM.RACES;\n",
    "SELECT * FROM ADO_ASG2_GROUP_CAT_DB.ADO_ASG2_GROUP_CAT_SCM.RACES LIMIT 10;\n",
    "\n",
    "\n",
    "ALTER TABLE ADO_ASG2_GROUP_CAT_DB.ADO_ASG2_GROUP_CAT_SCM.SEASONS\n",
    "ALTER COLUMN YEAR NUMBER(4,0);"
   ]
  },
  {
   "cell_type": "code",
   "execution_count": null,
   "id": "855b30b6-4e6c-48bc-8f22-982bde227708",
   "metadata": {},
   "outputs": [],
   "source": []
  }
 ],
 "metadata": {
  "kernelspec": {
   "display_name": "Python 3 (ipykernel)",
   "language": "python",
   "name": "python3"
  },
  "language_info": {
   "codemirror_mode": {
    "name": "ipython",
    "version": 3
   },
   "file_extension": ".py",
   "mimetype": "text/x-python",
   "name": "python",
   "nbconvert_exporter": "python",
   "pygments_lexer": "ipython3",
   "version": "3.12.4"
  }
 },
 "nbformat": 4,
 "nbformat_minor": 5
}
