{
 "cells": [
  {
   "cell_type": "markdown",
   "id": "053bb1ef-7995-48f6-a82f-ccb2136fca7d",
   "metadata": {},
   "source": [
    "<table class=\"table table-bordered\">\n",
    "    <tr>\n",
    "        <th style=\"text-align:center; vertical-align: middle; width:50%\"><img src='https://www.np.edu.sg/images/default-source/default-album/img-logo.png'\"></th>\n",
    "        <th style=\"text-align:center;\"><h1>Agile DataOps</h1><h2>Assignment 2(Group) - inner Join</h2><h3>AY2024/25 Semester</h3></th>\n",
    "    </tr>\n",
    "</table>"
   ]
  },
  {
   "cell_type": "code",
   "execution_count": 4,
   "id": "3ed586d6-a518-4a98-875b-dbcff11e0384",
   "metadata": {},
   "outputs": [],
   "source": [
    "## 1. Total Points by Driver"
   ]
  },
  {
   "cell_type": "code",
   "execution_count": null,
   "id": "cfca9da0-d916-4abb-a978-32bf42f393b8",
   "metadata": {},
   "outputs": [],
   "source": [
    "SELECT \n",
    "    DRIVERS.FORENAME AS DRIVER_FIRST_NAME,\n",
    "    DRIVERS.SURNAME AS DRIVER_LAST_NAME,\n",
    "    SUM(RESULTS.POINTS) AS TOTAL_POINTS\n",
    "FROM \n",
    "    ADO_ASG2_GROUP_CAT_DB.ADO_ASG2_GROUP_CAT_SCM.RESULTS AS RESULTS\n",
    "INNER JOIN ADO_ASG2_GROUP_CAT_DB.ADO_ASG2_GROUP_CAT_SCM.DRIVERS AS DRIVERS \n",
    "    ON RESULTS.DRIVERID = DRIVERS.DRIVERID\n",
    "GROUP BY \n",
    "    DRIVERS.FORENAME, \n",
    "    DRIVERS.SURNAME\n",
    "ORDER BY \n",
    "    TOTAL_POINTS DESC;"
   ]
  },
  {
   "cell_type": "code",
   "execution_count": 6,
   "id": "fe734d00-0254-4697-a493-2ad8ef643bd6",
   "metadata": {},
   "outputs": [],
   "source": [
    "## 2. Total Points by Constructor"
   ]
  },
  {
   "cell_type": "code",
   "execution_count": null,
   "id": "57f17329-88e9-419b-a14d-d19e866d24d3",
   "metadata": {},
   "outputs": [],
   "source": [
    "SELECT \n",
    "    CONSTRUCTOR.NAME AS CONSTRUCTOR_NAME,\n",
    "    SUM(RESULTS.POINTS) AS TOTAL_POINTS\n",
    "FROM \n",
    "    ADO_ASG2_GROUP_CAT_DB.ADO_ASG2_GROUP_CAT_SCM.RESULTs AS RESULTs\n",
    "INNER JOIN ADO_ASG2_GROUP_CAT_DB.ADO_ASG2_GROUP_CAT_SCM.CONSTRUCTOR AS CONSTRUCTOR \n",
    "    ON RESULTS.CONSTRUCTORID = CONSTRUCTOR.CONSTRUCTORID\n",
    "GROUP BY \n",
    "    CONSTRUCTOR.NAME\n",
    "ORDER BY \n",
    "    TOTAL_POINTS DESC;"
   ]
  },
  {
   "cell_type": "code",
   "execution_count": null,
   "id": "9490b5e1-dca5-417b-8280-d92eb802344e",
   "metadata": {},
   "outputs": [],
   "source": [
    "## 3. Total Wins by Driver"
   ]
  },
  {
   "cell_type": "code",
   "execution_count": null,
   "id": "0658e4c2-2181-4bdc-aa67-c2cee33edef2",
   "metadata": {},
   "outputs": [],
   "source": [
    "SELECT \n",
    "    DRIVERS.FORENAME AS DRIVER_FIRST_NAME,\n",
    "    DRIVERS.SURNAME AS DRIVER_LAST_NAME,\n",
    "    COUNT(*) AS TOTAL_WINS\n",
    "FROM \n",
    "    ADO_ASG2_GROUP_CAT_DB.ADO_ASG2_GROUP_CAT_SCM.RESULTS AS RESULT\n",
    "INNER JOIN ADO_ASG2_GROUP_CAT_DB.ADO_ASG2_GROUP_CAT_SCM.DRIVERS AS DRIVERS \n",
    "    ON RESULT.DRIVERID = DRIVERS.DRIVERID\n",
    "WHERE \n",
    "    RESULT.POSITIONTEXT = '1'\n",
    "GROUP BY \n",
    "    DRIVERS.FORENAME, \n",
    "    DRIVERS.SURNAME\n",
    "ORDER BY \n",
    "    TOTAL_WINS DESC;"
   ]
  },
  {
   "cell_type": "code",
   "execution_count": 10,
   "id": "7c6eab87-ee1b-4df4-a869-392970ed2b88",
   "metadata": {},
   "outputs": [],
   "source": [
    "## 4. Total Wins by Constructor"
   ]
  },
  {
   "cell_type": "code",
   "execution_count": null,
   "id": "4b4deb07-24c2-4841-a369-b26e8171b5c6",
   "metadata": {},
   "outputs": [],
   "source": [
    "SELECT \n",
    "    CONSTRUCTOR.NAME AS CONSTRUCTOR_NAME,\n",
    "    COUNT(*) AS TOTAL_WINS\n",
    "FROM \n",
    "    ADO_ASG2_GROUP_CAT_DB.ADO_ASG2_GROUP_CAT_SCM.RESULTS AS RESULT\n",
    "INNER JOIN ADO_ASG2_GROUP_CAT_DB.ADO_ASG2_GROUP_CAT_SCM.CONSTRUCTOR AS CONSTRUCTOR \n",
    "    ON RESULT.CONSTRUCTORID = CONSTRUCTOR.CONSTRUCTORID\n",
    "WHERE \n",
    "    RESULT.POSITIONTEXT = '1'\n",
    "GROUP BY \n",
    "    CONSTRUCTOR.NAME\n",
    "ORDER BY \n",
    "    TOTAL_WINS DESC;"
   ]
  },
  {
   "cell_type": "code",
   "execution_count": 8,
   "id": "fc898eb7-c1d2-4840-97f0-7b388d3ff6d4",
   "metadata": {},
   "outputs": [],
   "source": [
    "## 5. Average Points Per Race by Driver"
   ]
  },
  {
   "cell_type": "code",
   "execution_count": null,
   "id": "5ab022d6-4dd7-4d9d-84f5-a232d6136ca8",
   "metadata": {},
   "outputs": [],
   "source": [
    "SELECT \n",
    "    DRIVERS.FORENAME AS DRIVER_FIRST_NAME,\n",
    "    DRIVERS.SURNAME AS DRIVER_LAST_NAME,\n",
    "    AVG(RESULT.POINTS) AS AVERAGE_POINTS_PER_RACE\n",
    "FROM \n",
    "    ADO_ASG2_GROUP_CAT_DB.ADO_ASG2_GROUP_CAT_SCM.RESULTS AS RESULT\n",
    "INNER JOIN ADO_ASG2_GROUP_CAT_DB.ADO_ASG2_GROUP_CAT_SCM.DRIVERS AS DRIVERS \n",
    "    ON RESULT.DRIVERID = DRIVERS.DRIVERID\n",
    "GROUP BY \n",
    "    DRIVERS.FORENAME, \n",
    "    DRIVERS.SURNAME\n",
    "ORDER BY \n",
    "    AVERAGE_POINTS_PER_RACE DESC;"
   ]
  },
  {
   "cell_type": "code",
   "execution_count": 12,
   "id": "6a662a53-f305-4b31-bc64-689d59bc26e6",
   "metadata": {},
   "outputs": [],
   "source": [
    "## 6. Podium Finishes by Driver"
   ]
  },
  {
   "cell_type": "code",
   "execution_count": null,
   "id": "9d585ef0-4341-4d90-85c0-6d0653b592fc",
   "metadata": {},
   "outputs": [],
   "source": [
    "SELECT \n",
    "    DRIVERS.FORENAME AS DRIVER_FIRST_NAME,\n",
    "    DRIVERS.SURNAME AS DRIVER_LAST_NAME,\n",
    "    COUNT(*) AS PODIUM_FINISHES\n",
    "FROM \n",
    "    ADO_ASG2_GROUP_CAT_DB.ADO_ASG2_GROUP_CAT_SCM.RESULTS AS RESULT\n",
    "INNER JOIN ADO_ASG2_GROUP_CAT_DB.ADO_ASG2_GROUP_CAT_SCM.DRIVERS AS DRIVERS \n",
    "    ON RESULT.DRIVERID = DRIVERS.DRIVERID\n",
    "WHERE \n",
    "    RESULT.POSITIONTEXT IN ('1', '2', '3')\n",
    "GROUP BY \n",
    "    DRIVERS.FORENAME, \n",
    "    DRIVERS.SURNAME\n",
    "ORDER BY \n",
    "    PODIUM_FINISHES DESC;"
   ]
  },
  {
   "cell_type": "code",
   "execution_count": 14,
   "id": "225facc1-61ae-4e63-8185-a7fe91895a47",
   "metadata": {},
   "outputs": [],
   "source": [
    "## 7. Fastest Laps by Constructor"
   ]
  },
  {
   "cell_type": "code",
   "execution_count": null,
   "id": "a36cf5f4-d934-48b3-85d0-4a6f701690e1",
   "metadata": {},
   "outputs": [],
   "source": [
    "SELECT \n",
    "    CONSTRUCTOR.NAME AS CONSTRUCTOR_NAME,\n",
    "    COUNT(RESULT.FASTESTLAP) AS TOTAL_FASTEST_LAPS\n",
    "FROM \n",
    "    ADO_ASG2_GROUP_CAT_DB.ADO_ASG2_GROUP_CAT_SCM.RESULTS AS RESULT\n",
    "INNER JOIN ADO_ASG2_GROUP_CAT_DB.ADO_ASG2_GROUP_CAT_SCM.CONSTRUCTOR AS CONSTRUCTOR \n",
    "    ON RESULT.CONSTRUCTORID = CONSTRUCTOR.CONSTRUCTORID\n",
    "WHERE \n",
    "    RESULT.FASTESTLAP IS NOT NULL\n",
    "GROUP BY \n",
    "    CONSTRUCTOR.NAME\n",
    "ORDER BY \n",
    "    TOTAL_FASTEST_LAPS DESC;\n"
   ]
  },
  {
   "cell_type": "code",
   "execution_count": 16,
   "id": "e65204d6-eb63-430e-98a7-f9c882b68d15",
   "metadata": {},
   "outputs": [],
   "source": [
    "## 8. Total Points by Driver for a Specific Season"
   ]
  },
  {
   "cell_type": "code",
   "execution_count": null,
   "id": "3978e1f5-706a-4ebd-8544-5506bf1a1778",
   "metadata": {},
   "outputs": [],
   "source": [
    "SELECT \n",
    "    DRIVERS.FORENAME AS DRIVER_FIRST_NAME,\n",
    "    DRIVERS.SURNAME AS DRIVER_LAST_NAME,\n",
    "    SUM(RESULT.POINTS) AS TOTAL_POINTS\n",
    "FROM \n",
    "    ADO_ASG2_GROUP_CAT_DB.ADO_ASG2_GROUP_CAT_SCM.RESULTS AS RESULT\n",
    "INNER JOIN ADO_ASG2_GROUP_CAT_DB.ADO_ASG2_GROUP_CAT_SCM.RACES AS RACES \n",
    "    ON RESULT.RACEID = RACES.RACEID\n",
    "INNER JOIN ADO_ASG2_GROUP_CAT_DB.ADO_ASG2_GROUP_CAT_SCM.DRIVERS AS DRIVERS \n",
    "    ON RESULT.DRIVERID = DRIVERS.DRIVERID\n",
    "WHERE \n",
    "    RACES.YEAR = 2022 --YEAR 2022\n",
    "GROUP BY \n",
    "    DRIVERS.FORENAME, \n",
    "    DRIVERS.SURNAME\n",
    "ORDER BY \n",
    "    TOTAL_POINTS DESC;"
   ]
  },
  {
   "cell_type": "code",
   "execution_count": 18,
   "id": "5533b242-4802-4fc4-bb6b-11b2b4675872",
   "metadata": {},
   "outputs": [],
   "source": [
    "## 9. Number of Races Won by Constructor by Year"
   ]
  },
  {
   "cell_type": "code",
   "execution_count": null,
   "id": "2481e205-fec8-4708-bc56-ca32b076cf24",
   "metadata": {},
   "outputs": [],
   "source": [
    "SELECT \n",
    "    CONSTRUCTOR.NAME AS CONSTRUCTOR_NAME,\n",
    "    RACES.YEAR,\n",
    "    COUNT(*) AS WINS\n",
    "FROM \n",
    "    ADO_ASG2_GROUP_CAT_DB.ADO_ASG2_GROUP_CAT_SCM.RESULTS AS RESULT\n",
    "INNER JOIN ADO_ASG2_GROUP_CAT_DB.ADO_ASG2_GROUP_CAT_SCM.RACES AS RACES \n",
    "    ON RESULT.RACEID = RACES.RACEID\n",
    "INNER JOIN ADO_ASG2_GROUP_CAT_DB.ADO_ASG2_GROUP_CAT_SCM.CONSTRUCTOR AS CONSTRUCTOR \n",
    "    ON RESULT.CONSTRUCTORID = CONSTRUCTOR.CONSTRUCTORID\n",
    "WHERE \n",
    "    RESULT.POSITIONTEXT = '1'\n",
    "GROUP BY \n",
    "    CONSTRUCTOR.NAME, \n",
    "    RACES.YEAR\n",
    "ORDER BY \n",
    "    RACES.YEAR, \n",
    "    WINS DESC;"
   ]
  },
  {
   "cell_type": "code",
   "execution_count": 20,
   "id": "969931d1-6569-46fc-884b-0541abe171af",
   "metadata": {},
   "outputs": [],
   "source": [
    "## 10. Average Lap Time by Driver"
   ]
  },
  {
   "cell_type": "code",
   "execution_count": null,
   "id": "f66db22a-8aac-4fc2-a5a3-af94d8485cb7",
   "metadata": {},
   "outputs": [],
   "source": [
    "SELECT \n",
    "    DRIVERS.FORENAME AS DRIVER_FIRST_NAME,\n",
    "    DRIVERS.SURNAME AS DRIVER_LAST_NAME,\n",
    "    AVG(LAPTIMES.MILLISECONDS) AS AVG_LAP_TIME_IN_MILLISECONDS\n",
    "FROM \n",
    "    ADO_ASG2_GROUP_CAT_DB.ADO_ASG2_GROUP_CAT_SCM.LAPTIMES AS LAPTIMES\n",
    "INNER JOIN ADO_ASG2_GROUP_CAT_DB.ADO_ASG2_GROUP_CAT_SCM.DRIVERS AS DRIVERS \n",
    "    ON LAPTIMES.DRIVERID = DRIVERS.DRIVERID\n",
    "GROUP BY \n",
    "    DRIVERS.FORENAME, \n",
    "    DRIVERS.SURNAME\n",
    "ORDER BY \n",
    "    AVG_LAP_TIME_IN_MILLISECONDS ASC; --FASTEST"
   ]
  },
  {
   "cell_type": "code",
   "execution_count": null,
   "id": "c1486804-ab0a-47ab-8b42-dbf04039137f",
   "metadata": {},
   "outputs": [],
   "source": []
  }
 ],
 "metadata": {
  "kernelspec": {
   "display_name": "Python 3 (ipykernel)",
   "language": "python",
   "name": "python3"
  },
  "language_info": {
   "codemirror_mode": {
    "name": "ipython",
    "version": 3
   },
   "file_extension": ".py",
   "mimetype": "text/x-python",
   "name": "python",
   "nbconvert_exporter": "python",
   "pygments_lexer": "ipython3",
   "version": "3.12.4"
  }
 },
 "nbformat": 4,
 "nbformat_minor": 5
}
