{
 "cells": [
  {
   "cell_type": "markdown",
   "id": "12bfb3dd-5899-4b09-be73-2c37b833a00b",
   "metadata": {},
   "source": [
    "<table class=\"table table-bordered\">\n",
    "    <tr>\n",
    "        <th style=\"text-align:center; vertical-align: middle; width:50%\"><img src='https://www.np.edu.sg/images/default-source/default-album/img-logo.png'\"></th>\n",
    "        <th style=\"text-align:center;\"><h1>AGILE DATAOPS</h1><h2>Assignment 2 - GROUP </h2><h3>AY2024/25 Semester</h3></th>\n",
    "    </tr>\n",
    "</table>"
   ]
  },
  {
   "cell_type": "code",
   "execution_count": 1,
   "id": "92e5ab30-38dd-4989-ba16-21caa9b385be",
   "metadata": {},
   "outputs": [],
   "source": [
    "## creating table name : circuits"
   ]
  },
  {
   "cell_type": "markdown",
   "id": "f85ca254-7a63-4cf7-abbd-dacea74f1270",
   "metadata": {},
   "source": [
    "ALTER TABLE ADO_ASG2_GROUP_CAT_DB.ADO_ASG2_GROUP_CAT_SCM.CIRCUITS\n",
    "ADD CONSTRAINT PK_CIRCUITS PRIMARY KEY (CIRCUITID);"
   ]
  },
  {
   "cell_type": "code",
   "execution_count": 28,
   "id": "f1a83d1a-665c-424d-800c-48ba37005273",
   "metadata": {},
   "outputs": [],
   "source": [
    "## creating table name : constructor"
   ]
  },
  {
   "cell_type": "code",
   "execution_count": null,
   "id": "6af736af-7e42-432c-9e77-d70ca866e235",
   "metadata": {},
   "outputs": [],
   "source": [
    "ALTER TABLE ADO_ASG2_GROUP_CAT_DB.ADO_ASG2_GROUP_CAT_SCM.CONSTRUCTOR\n",
    "ADD CONSTRAINT PK_CONSTRUCTOR PRIMARY KEY (CONSTRUCTORID);"
   ]
  },
  {
   "cell_type": "code",
   "execution_count": 30,
   "id": "5ff79b77-247f-4200-9b04-449199d61496",
   "metadata": {},
   "outputs": [],
   "source": [
    "## creating table name : races"
   ]
  },
  {
   "cell_type": "code",
   "execution_count": null,
   "id": "d1663e91-f640-449f-b74d-605ab747e8e5",
   "metadata": {},
   "outputs": [],
   "source": [
    "ALTER TABLE ADO_ASG2_GROUP_CAT_DB.ADO_ASG2_GROUP_CAT_SCM.RACES\n",
    "ADD CONSTRAINT PK_RACES PRIMARY KEY (RACEID);"
   ]
  },
  {
   "cell_type": "code",
   "execution_count": 6,
   "id": "e167bd90-7cc4-4e6e-b5e6-e5d110d3b125",
   "metadata": {},
   "outputs": [],
   "source": [
    "## creating table name : constructor_results"
   ]
  },
  {
   "cell_type": "code",
   "execution_count": null,
   "id": "b351ce47-899b-4742-89ce-c9fe47d4337d",
   "metadata": {},
   "outputs": [],
   "source": [
    "ALTER TABLE ADO_ASG2_GROUP_CAT_DB.ADO_ASG2_GROUP_CAT_SCM.CONSTRUCTOR_RESULTS\n",
    "ADD CONSTRAINT PK_CONSTRUCTOR_RESULTS PRIMARY KEY (CONSTRUCTORRESULTSID);\n",
    "\n",
    "ALTER TABLE ADO_ASG2_GROUP_CAT_DB.ADO_ASG2_GROUP_CAT_SCM.CONSTRUCTOR_RESULTS\n",
    "ADD CONSTRAINT FK_CONSTRUCTOR_RESULTS_CONSTRUCTOR FOREIGN KEY (CONSTRUCTORID)\n",
    "REFERENCES ADO_ASG2_GROUP_CAT_DB.ADO_ASG2_GROUP_CAT_SCM.CONSTRUCTOR (CONSTRUCTORID);\n",
    "\n",
    "ALTER TABLE ADO_ASG2_GROUP_CAT_DB.ADO_ASG2_GROUP_CAT_SCM.CONSTRUCTOR_RESULTS\n",
    "ADD CONSTRAINT FK_CONSTRUCTOR_RESULTS_RACES FOREIGN KEY (RACEID)\n",
    "REFERENCES ADO_ASG2_GROUP_CAT_DB.ADO_ASG2_GROUP_CAT_SCM.RACES (RACEID);"
   ]
  },
  {
   "cell_type": "code",
   "execution_count": 8,
   "id": "f4180f4d-47ac-47ef-8bff-550432ba9c38",
   "metadata": {},
   "outputs": [],
   "source": [
    "## creating table name : constructor_standings"
   ]
  },
  {
   "cell_type": "code",
   "execution_count": null,
   "id": "cc3af4fa-14e6-4495-9cfd-5ae3b305a2de",
   "metadata": {},
   "outputs": [],
   "source": [
    "ALTER TABLE ADO_ASG2_GROUP_CAT_DB.ADO_ASG2_GROUP_CAT_SCM.CONSTRUCTOR_STANDINGS\n",
    "ADD CONSTRAINT PK_CONSTRUCTOR_STANDINGS PRIMARY KEY (CONSTRUCTORSTANDINGSID);\n",
    "\n",
    "ALTER TABLE ADO_ASG2_GROUP_CAT_DB.ADO_ASG2_GROUP_CAT_SCM.CONSTRUCTOR_STANDINGS\n",
    "ADD CONSTRAINT FK_CONSTRUCTOR_STANDINGS_CONSTRUCTOR FOREIGN KEY (CONSTRUCTORID)\n",
    "REFERENCES ADO_ASG2_GROUP_CAT_DB.ADO_ASG2_GROUP_CAT_SCM.CONSTRUCTOR (CONSTRUCTORID);\n",
    "\n",
    "ALTER TABLE ADO_ASG2_GROUP_CAT_DB.ADO_ASG2_GROUP_CAT_SCM.CONSTRUCTOR_STANDINGS\n",
    "ADD CONSTRAINT FK_CONSTRUCTOR_STANDINGS_RACES FOREIGN KEY (RACEID)\n",
    "REFERENCES ADO_ASG2_GROUP_CAT_DB.ADO_ASG2_GROUP_CAT_SCM.RACES (RACEID);"
   ]
  },
  {
   "cell_type": "code",
   "execution_count": 10,
   "id": "d4780e33-2590-4865-9503-f5e3fe0c1243",
   "metadata": {},
   "outputs": [],
   "source": [
    "## creating table name : drivers"
   ]
  },
  {
   "cell_type": "code",
   "execution_count": null,
   "id": "7a97167f-b88e-479f-b67a-054c9dfc9dd5",
   "metadata": {},
   "outputs": [],
   "source": [
    "ALTER TABLE ADO_ASG2_GROUP_CAT_DB.ADO_ASG2_GROUP_CAT_SCM.DRIVERS\n",
    "ADD CONSTRAINT PK_DRIVERS PRIMARY KEY (DRIVERID);"
   ]
  },
  {
   "cell_type": "code",
   "execution_count": 12,
   "id": "55c90ea8-c85f-4100-8bf2-7c32fe6e3dc1",
   "metadata": {},
   "outputs": [],
   "source": [
    "## creating table name : driver_standings"
   ]
  },
  {
   "cell_type": "code",
   "execution_count": null,
   "id": "7360b491-0016-48f4-ac8b-23014b8735f8",
   "metadata": {},
   "outputs": [],
   "source": [
    "ALTER TABLE ADO_ASG2_GROUP_CAT_DB.ADO_ASG2_GROUP_CAT_SCM.DRIVER_STANDINGS\n",
    "ADD CONSTRAINT PK_DRIVER_STANDINGS PRIMARY KEY (DRIVERSTANDINGSID);\n",
    "\n",
    "ALTER TABLE ADO_ASG2_GROUP_CAT_DB.ADO_ASG2_GROUP_CAT_SCM.DRIVER_STANDINGS\n",
    "ADD CONSTRAINT FK_DRIVER_STANDINGS_RACES FOREIGN KEY (RACEID)\n",
    "REFERENCES ADO_ASG2_GROUP_CAT_DB.ADO_ASG2_GROUP_CAT_SCM.RACES (RACEID);\n",
    "\n",
    "ALTER TABLE ADO_ASG2_GROUP_CAT_DB.ADO_ASG2_GROUP_CAT_SCM.DRIVER_STANDINGS\n",
    "ADD CONSTRAINT FK_DRIVER_STANDINGS_DRIVERS FOREIGN KEY (DRIVERID)\n",
    "REFERENCES ADO_ASG2_GROUP_CAT_DB.ADO_ASG2_GROUP_CAT_SCM.DRIVERS (DRIVERID);"
   ]
  },
  {
   "cell_type": "code",
   "execution_count": 14,
   "id": "5add8d6d-1d21-4fd5-8afe-5e2ed31b5278",
   "metadata": {},
   "outputs": [],
   "source": [
    "## creating lap_times (introduced a composite key here)"
   ]
  },
  {
   "cell_type": "code",
   "execution_count": null,
   "id": "b86462e6-fa75-4f23-ba5a-ee160548e386",
   "metadata": {},
   "outputs": [],
   "source": [
    "ALTER TABLE ADO_ASG2_GROUP_CAT_DB.ADO_ASG2_GROUP_CAT_SCM.LAPTIMES\n",
    "ADD CONSTRAINT PK_LAPTIMES PRIMARY KEY (RACEID, DRIVERID, LAP);"
   ]
  },
  {
   "cell_type": "code",
   "execution_count": 16,
   "id": "7e709b60-20c1-4216-9472-296cc08e6671",
   "metadata": {},
   "outputs": [],
   "source": [
    "## creating pit_stops (introduced a composite key here)"
   ]
  },
  {
   "cell_type": "code",
   "execution_count": null,
   "id": "355a0874-e0e3-4f9a-89c0-ee86960f8f37",
   "metadata": {},
   "outputs": [],
   "source": [
    "ALTER TABLE ADO_ASG2_GROUP_CAT_DB.ADO_ASG2_GROUP_CAT_SCM.PITSTOPS\n",
    "ADD CONSTRAINT PK_PITSTOPS PRIMARY KEY (RACEID, DRIVERID, STOP, LAP);\n"
   ]
  },
  {
   "cell_type": "code",
   "execution_count": 18,
   "id": "5282bc45-4375-4537-8e08-ab6d0a2c2e8e",
   "metadata": {},
   "outputs": [],
   "source": [
    "## creating table name : qualifying"
   ]
  },
  {
   "cell_type": "code",
   "execution_count": null,
   "id": "7c174b1f-4378-4076-80cd-d189b4dddd9a",
   "metadata": {},
   "outputs": [],
   "source": [
    "ALTER TABLE ADO_ASG2_GROUP_CAT_DB.ADO_ASG2_GROUP_CAT_SCM.QUALIFYING\n",
    "ADD CONSTRAINT PK_QUALIFYING PRIMARY KEY (QUALIFYID);\n",
    "ALTER TABLE ADO_ASG2_GROUP_CAT_DB.ADO_ASG2_GROUP_CAT_SCM.QUALIFYING\n",
    "ADD CONSTRAINT FK_QUALIFYING_RACES FOREIGN KEY (RACEID)\n",
    "REFERENCES ADO_ASG2_GROUP_CAT_DB.ADO_ASG2_GROUP_CAT_SCM.RACES (RACEID);\n",
    "ALTER TABLE ADO_ASG2_GROUP_CAT_DB.ADO_ASG2_GROUP_CAT_SCM.QUALIFYING\n",
    "ADD CONSTRAINT FK_QUALIFYING_DRIVERS FOREIGN KEY (DRIVERID)\n",
    "REFERENCES ADO_ASG2_GROUP_CAT_DB.ADO_ASG2_GROUP_CAT_SCM.DRIVERS (DRIVERID);\n",
    "ALTER TABLE ADO_ASG2_GROUP_CAT_DB.ADO_ASG2_GROUP_CAT_SCM.QUALIFYING\n",
    "ADD CONSTRAINT FK_QUALIFYING_CONSTRUCTORS FOREIGN KEY (CONSTRUCTORID)\n",
    "REFERENCES ADO_ASG2_GROUP_CAT_DB.ADO_ASG2_GROUP_CAT_SCM.CONSTRUCTOR (CONSTRUCTORID);"
   ]
  },
  {
   "cell_type": "code",
   "execution_count": 20,
   "id": "6b69bd88-a890-42eb-a384-b357feff5024",
   "metadata": {},
   "outputs": [],
   "source": [
    "### creating table name : status"
   ]
  },
  {
   "cell_type": "code",
   "execution_count": null,
   "id": "b37bd6ad-7e0e-4a31-956b-d8162da92baa",
   "metadata": {},
   "outputs": [],
   "source": [
    "ALTER TABLE ADO_ASG2_GROUP_CAT_DB.ADO_ASG2_GROUP_CAT_SCM.STATUS\n",
    "ADD CONSTRAINT PK_STATUS PRIMARY KEY (STATUSID);\n"
   ]
  },
  {
   "cell_type": "code",
   "execution_count": 34,
   "id": "286b8bd6-b508-4da8-aa54-092726e4f876",
   "metadata": {},
   "outputs": [],
   "source": [
    "## creating table name : result_cleaned"
   ]
  },
  {
   "cell_type": "code",
   "execution_count": null,
   "id": "dd97c068-383a-4ab1-b8d5-573313739133",
   "metadata": {},
   "outputs": [],
   "source": [
    "ALTER TABLE ADO_ASG2_GROUP_CAT_DB.ADO_ASG2_GROUP_CAT_SCM.RESULT_CLEANED\n",
    "ADD CONSTRAINT PK_RESULT_CLEANED PRIMARY KEY (RESULTID);\n",
    "\n",
    "ALTER TABLE ADO_ASG2_GROUP_CAT_DB.ADO_ASG2_GROUP_CAT_SCM.RESULT_CLEANED\n",
    "ADD CONSTRAINT FK_RESULT_CLEANED_RACES FOREIGN KEY (RACEID)\n",
    "REFERENCES ADO_ASG2_GROUP_CAT_DB.ADO_ASG2_GROUP_CAT_SCM.RACES (RACEID);\n",
    "\n",
    "ALTER TABLE ADO_ASG2_GROUP_CAT_DB.ADO_ASG2_GROUP_CAT_SCM.RESULT_CLEANED\n",
    "ADD CONSTRAINT FK_RESULT_CLEANED_DRIVERS FOREIGN KEY (DRIVERID)\n",
    "REFERENCES ADO_ASG2_GROUP_CAT_DB.ADO_ASG2_GROUP_CAT_SCM.DRIVERS (DRIVERID);\n",
    "\n",
    "ALTER TABLE ADO_ASG2_GROUP_CAT_DB.ADO_ASG2_GROUP_CAT_SCM.RESULT_CLEANED\n",
    "ADD CONSTRAINT FK_RESULT_CLEANED_CONSTRUCTORS FOREIGN KEY (CONSTRUCTORID)\n",
    "REFERENCES ADO_ASG2_GROUP_CAT_DB.ADO_ASG2_GROUP_CAT_SCM.CONSTRUCTOR (CONSTRUCTORID);\n",
    "\n",
    "ALTER TABLE ADO_ASG2_GROUP_CAT_DB.ADO_ASG2_GROUP_CAT_SCM.RESULT_CLEANED\n",
    "ADD CONSTRAINT FK_RESULT_CLEANED_STATUS FOREIGN KEY (STATUSID)\n",
    "REFERENCES ADO_ASG2_GROUP_CAT_DB.ADO_ASG2_GROUP_CAT_SCM.STATUS (STATUSID);\n"
   ]
  },
  {
   "cell_type": "code",
   "execution_count": 24,
   "id": "15d3bbb3-b486-4623-afe3-f338e927dd8c",
   "metadata": {},
   "outputs": [],
   "source": [
    "## creating table names : seasons"
   ]
  },
  {
   "cell_type": "code",
   "execution_count": null,
   "id": "6aca49ae-397b-410a-a18f-ef77efa6e6c6",
   "metadata": {},
   "outputs": [],
   "source": [
    "ALTER TABLE ADO_ASG2_GROUP_CAT_DB.ADO_ASG2_GROUP_CAT_SCM.SEASONS\n",
    "ADD CONSTRAINT PK_SEASONS PRIMARY KEY (YEAR);"
   ]
  },
  {
   "cell_type": "code",
   "execution_count": 36,
   "id": "d593f455-ed89-447e-ab3d-cea1894a844e",
   "metadata": {},
   "outputs": [],
   "source": [
    "## creating table name : sprint_result_cleaned"
   ]
  },
  {
   "cell_type": "code",
   "execution_count": null,
   "id": "aaf5493e-f6df-4475-8d9e-8929d63717a2",
   "metadata": {},
   "outputs": [],
   "source": [
    "ALTER TABLE ADO_ASG2_GROUP_CAT_DB.ADO_ASG2_GROUP_CAT_SCM.SPRINT_RESULT_CLEANED\n",
    "ADD CONSTRAINT PK_SPRINT_RESULT_CLEANED PRIMARY KEY (RESULTID);\n",
    "\n",
    "ALTER TABLE ADO_ASG2_GROUP_CAT_DB.ADO_ASG2_GROUP_CAT_SCM.SPRINT_RESULT_CLEANED\n",
    "ADD CONSTRAINT FK_SPRINT_RESULT_CLEANED_RACES FOREIGN KEY (RACEID)\n",
    "REFERENCES ADO_ASG2_GROUP_CAT_DB.ADO_ASG2_GROUP_CAT_SCM.RACES (RACEID);\n",
    "\n",
    "ALTER TABLE ADO_ASG2_GROUP_CAT_DB.ADO_ASG2_GROUP_CAT_SCM.SPRINT_RESULT_CLEANED\n",
    "ADD CONSTRAINT FK_SPRINT_RESULT_CLEANED_DRIVERS FOREIGN KEY (DRIVERID)\n",
    "REFERENCES ADO_ASG2_GROUP_CAT_DB.ADO_ASG2_GROUP_CAT_SCM.DRIVERS (DRIVERID);\n",
    "\n",
    "ALTER TABLE ADO_ASG2_GROUP_CAT_DB.ADO_ASG2_GROUP_CAT_SCM.SPRINT_RESULT_CLEANED\n",
    "ADD CONSTRAINT FK_SPRINT_RESULT_CLEANED_CONSTRUCTORS FOREIGN KEY (CONSTRUCTORID)\n",
    "REFERENCES ADO_ASG2_GROUP_CAT_DB.ADO_ASG2_GROUP_CAT_SCM.CONSTRUCTOR (CONSTRUCTORID);\n",
    "\n",
    "ALTER TABLE ADO_ASG2_GROUP_CAT_DB.ADO_ASG2_GROUP_CAT_SCM.SPRINT_RESULT_CLEANED\n",
    "ADD CONSTRAINT FK_SPRINT_RESULT_CLEANED_STATUS FOREIGN KEY (STATUSID)\n",
    "REFERENCES ADO_ASG2_GROUP_CAT_DB.ADO_ASG2_GROUP_CAT_SCM.STATUS (STATUSID);"
   ]
  },
  {
   "cell_type": "code",
   "execution_count": null,
   "id": "83674a14-30a7-4abd-8d46-990c3c675482",
   "metadata": {},
   "outputs": [],
   "source": []
  },
  {
   "cell_type": "code",
   "execution_count": null,
   "id": "d60a1265-a045-4a57-b89b-f05762597bc4",
   "metadata": {},
   "outputs": [],
   "source": []
  },
  {
   "cell_type": "code",
   "execution_count": null,
   "id": "3f200030-da70-407f-bec8-c40495216243",
   "metadata": {},
   "outputs": [],
   "source": []
  }
 ],
 "metadata": {
  "kernelspec": {
   "display_name": "Python 3 (ipykernel)",
   "language": "python",
   "name": "python3"
  },
  "language_info": {
   "codemirror_mode": {
    "name": "ipython",
    "version": 3
   },
   "file_extension": ".py",
   "mimetype": "text/x-python",
   "name": "python",
   "nbconvert_exporter": "python",
   "pygments_lexer": "ipython3",
   "version": "3.12.4"
  }
 },
 "nbformat": 4,
 "nbformat_minor": 5
}
